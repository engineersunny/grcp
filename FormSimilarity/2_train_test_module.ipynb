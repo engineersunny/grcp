{
 "cells": [
  {
   "cell_type": "code",
   "execution_count": 1,
   "metadata": {},
   "outputs": [],
   "source": [
    "import pandas as pd\n",
    "import numpy as np\n",
    "import gensim\n",
    "from gensim.models.doc2vec import Doc2Vec, TaggedDocument\n",
    "from nltk.tokenize import word_tokenize\n",
    "from gensim.models.doc2vec import Doc2Vec\n",
    "\n",
    "import uts"
   ]
  },
  {
   "attachments": {},
   "cell_type": "markdown",
   "metadata": {},
   "source": [
    "Read Train Data"
   ]
  },
  {
   "cell_type": "code",
   "execution_count": 2,
   "metadata": {},
   "outputs": [
    {
     "name": "stderr",
     "output_type": "stream",
     "text": [
      "/home/sunny/miniconda3/envs/env5/lib/python3.7/site-packages/pandas/core/indexing.py:1817: SettingWithCopyWarning: \n",
      "A value is trying to be set on a copy of a slice from a DataFrame.\n",
      "Try using .loc[row_indexer,col_indexer] = value instead\n",
      "\n",
      "See the caveats in the documentation: https://pandas.pydata.org/pandas-docs/stable/user_guide/indexing.html#returning-a-view-versus-a-copy\n",
      "  self._setitem_single_column(loc, value, pi)\n"
     ]
    },
    {
     "data": {
      "text/html": [
       "<div>\n",
       "<style scoped>\n",
       "    .dataframe tbody tr th:only-of-type {\n",
       "        vertical-align: middle;\n",
       "    }\n",
       "\n",
       "    .dataframe tbody tr th {\n",
       "        vertical-align: top;\n",
       "    }\n",
       "\n",
       "    .dataframe thead th {\n",
       "        text-align: right;\n",
       "    }\n",
       "</style>\n",
       "<table border=\"1\" class=\"dataframe\">\n",
       "  <thead>\n",
       "    <tr style=\"text-align: right;\">\n",
       "      <th></th>\n",
       "      <th>COLUMN_NAME</th>\n",
       "      <th>TABLE_NAME</th>\n",
       "      <th>ORDINAL_POSITION</th>\n",
       "    </tr>\n",
       "  </thead>\n",
       "  <tbody>\n",
       "    <tr>\n",
       "      <th>0</th>\n",
       "      <td>Data Protection Key Id</td>\n",
       "      <td>__CDDataProtectionKeys</td>\n",
       "      <td>1</td>\n",
       "    </tr>\n",
       "    <tr>\n",
       "      <th>1</th>\n",
       "      <td>Friendly Name</td>\n",
       "      <td>__CDDataProtectionKeys</td>\n",
       "      <td>2</td>\n",
       "    </tr>\n",
       "    <tr>\n",
       "      <th>2</th>\n",
       "      <td>Xml</td>\n",
       "      <td>__CDDataProtectionKeys</td>\n",
       "      <td>3</td>\n",
       "    </tr>\n",
       "    <tr>\n",
       "      <th>3</th>\n",
       "      <td>System Name</td>\n",
       "      <td>__CDDataProtectionKeys</td>\n",
       "      <td>4</td>\n",
       "    </tr>\n",
       "    <tr>\n",
       "      <th>4</th>\n",
       "      <td>Migration Id</td>\n",
       "      <td>__MigrationHistory</td>\n",
       "      <td>1</td>\n",
       "    </tr>\n",
       "    <tr>\n",
       "      <th>...</th>\n",
       "      <td>...</td>\n",
       "      <td>...</td>\n",
       "      <td>...</td>\n",
       "    </tr>\n",
       "    <tr>\n",
       "      <th>2567</th>\n",
       "      <td>User Profile Event Id</td>\n",
       "      <td>UserProfileEvent</td>\n",
       "      <td>1</td>\n",
       "    </tr>\n",
       "    <tr>\n",
       "      <th>2568</th>\n",
       "      <td>Event Type</td>\n",
       "      <td>UserProfileEvent</td>\n",
       "      <td>2</td>\n",
       "    </tr>\n",
       "    <tr>\n",
       "      <th>2569</th>\n",
       "      <td>Event Date Time</td>\n",
       "      <td>UserProfileEvent</td>\n",
       "      <td>3</td>\n",
       "    </tr>\n",
       "    <tr>\n",
       "      <th>2570</th>\n",
       "      <td>Event Payload</td>\n",
       "      <td>UserProfileEvent</td>\n",
       "      <td>4</td>\n",
       "    </tr>\n",
       "    <tr>\n",
       "      <th>2571</th>\n",
       "      <td>Event User Profile Id</td>\n",
       "      <td>UserProfileEvent</td>\n",
       "      <td>5</td>\n",
       "    </tr>\n",
       "  </tbody>\n",
       "</table>\n",
       "<p>1591 rows × 3 columns</p>\n",
       "</div>"
      ],
      "text/plain": [
       "                 COLUMN_NAME              TABLE_NAME ORDINAL_POSITION\n",
       "0     Data Protection Key Id  __CDDataProtectionKeys                1\n",
       "1              Friendly Name  __CDDataProtectionKeys                2\n",
       "2                        Xml  __CDDataProtectionKeys                3\n",
       "3                System Name  __CDDataProtectionKeys                4\n",
       "4               Migration Id      __MigrationHistory                1\n",
       "...                      ...                     ...              ...\n",
       "2567   User Profile Event Id        UserProfileEvent                1\n",
       "2568              Event Type        UserProfileEvent                2\n",
       "2569         Event Date Time        UserProfileEvent                3\n",
       "2570           Event Payload        UserProfileEvent                4\n",
       "2571   Event User Profile Id        UserProfileEvent                5\n",
       "\n",
       "[1591 rows x 3 columns]"
      ]
     },
     "execution_count": 2,
     "metadata": {},
     "output_type": "execute_result"
    }
   ],
   "source": [
    "df = pd.read_csv('data/Form relationships.csv')\n",
    "gdf = uts.process_data(df)\n",
    "gdf.head()"
   ]
  },
  {
   "attachments": {},
   "cell_type": "markdown",
   "metadata": {},
   "source": [
    "Read Test Data"
   ]
  },
  {
   "cell_type": "code",
   "execution_count": 3,
   "metadata": {},
   "outputs": [
    {
     "name": "stderr",
     "output_type": "stream",
     "text": [
      "/home/sunny/miniconda3/envs/env5/lib/python3.7/site-packages/pandas/core/indexing.py:1817: SettingWithCopyWarning: \n",
      "A value is trying to be set on a copy of a slice from a DataFrame.\n",
      "Try using .loc[row_indexer,col_indexer] = value instead\n",
      "\n",
      "See the caveats in the documentation: https://pandas.pydata.org/pandas-docs/stable/user_guide/indexing.html#returning-a-view-versus-a-copy\n",
      "  self._setitem_single_column(loc, value, pi)\n"
     ]
    },
    {
     "data": {
      "text/html": [
       "<div>\n",
       "<style scoped>\n",
       "    .dataframe tbody tr th:only-of-type {\n",
       "        vertical-align: middle;\n",
       "    }\n",
       "\n",
       "    .dataframe tbody tr th {\n",
       "        vertical-align: top;\n",
       "    }\n",
       "\n",
       "    .dataframe thead th {\n",
       "        text-align: right;\n",
       "    }\n",
       "</style>\n",
       "<table border=\"1\" class=\"dataframe\">\n",
       "  <thead>\n",
       "    <tr style=\"text-align: right;\">\n",
       "      <th></th>\n",
       "      <th>COLUMN_NAME</th>\n",
       "      <th>TABLE_NAME</th>\n",
       "      <th>ORDINAL_POSITION</th>\n",
       "    </tr>\n",
       "  </thead>\n",
       "  <tbody>\n",
       "    <tr>\n",
       "      <th>0</th>\n",
       "      <td>Ontology Audit Id</td>\n",
       "      <td>A</td>\n",
       "      <td>1</td>\n",
       "    </tr>\n",
       "    <tr>\n",
       "      <th>1</th>\n",
       "      <td>Ontology Event Id</td>\n",
       "      <td>A</td>\n",
       "      <td>2</td>\n",
       "    </tr>\n",
       "    <tr>\n",
       "      <th>2</th>\n",
       "      <td>Action</td>\n",
       "      <td>A</td>\n",
       "      <td>3</td>\n",
       "    </tr>\n",
       "    <tr>\n",
       "      <th>3</th>\n",
       "      <td>Action Date</td>\n",
       "      <td>A</td>\n",
       "      <td>4</td>\n",
       "    </tr>\n",
       "    <tr>\n",
       "      <th>4</th>\n",
       "      <td>Action User Profile Id</td>\n",
       "      <td>A</td>\n",
       "      <td>5</td>\n",
       "    </tr>\n",
       "    <tr>\n",
       "      <th>5</th>\n",
       "      <td>Field</td>\n",
       "      <td>A</td>\n",
       "      <td>6</td>\n",
       "    </tr>\n",
       "    <tr>\n",
       "      <th>6</th>\n",
       "      <td>Field Name</td>\n",
       "      <td>A</td>\n",
       "      <td>7</td>\n",
       "    </tr>\n",
       "    <tr>\n",
       "      <th>7</th>\n",
       "      <td>Previous Value</td>\n",
       "      <td>A</td>\n",
       "      <td>8</td>\n",
       "    </tr>\n",
       "    <tr>\n",
       "      <th>8</th>\n",
       "      <td>New Value</td>\n",
       "      <td>A</td>\n",
       "      <td>9</td>\n",
       "    </tr>\n",
       "    <tr>\n",
       "      <th>9</th>\n",
       "      <td>Ontology Id</td>\n",
       "      <td>A</td>\n",
       "      <td>10</td>\n",
       "    </tr>\n",
       "  </tbody>\n",
       "</table>\n",
       "</div>"
      ],
      "text/plain": [
       "              COLUMN_NAME TABLE_NAME ORDINAL_POSITION\n",
       "0       Ontology Audit Id          A                1\n",
       "1       Ontology Event Id          A                2\n",
       "2                  Action          A                3\n",
       "3             Action Date          A                4\n",
       "4  Action User Profile Id          A                5\n",
       "5                   Field          A                6\n",
       "6              Field Name          A                7\n",
       "7          Previous Value          A                8\n",
       "8               New Value          A                9\n",
       "9             Ontology Id          A               10"
      ]
     },
     "execution_count": 3,
     "metadata": {},
     "output_type": "execute_result"
    }
   ],
   "source": [
    "ddf = pd.read_csv('data/Form relationships_dummy tables.csv')\n",
    "gdf_test = uts.process_data(ddf)\n",
    "gdf_test.get_group('A')"
   ]
  },
  {
   "attachments": {},
   "cell_type": "markdown",
   "metadata": {},
   "source": [
    "Processing Train Dataset"
   ]
  },
  {
   "cell_type": "code",
   "execution_count": 4,
   "metadata": {},
   "outputs": [
    {
     "data": {
      "text/plain": [
       "{'AgentAction': 'Agent Action Id Micro Service Agent Id Name Description ML Data Type Id Micro Service Implementation AgentAction'}"
      ]
     },
     "execution_count": 4,
     "metadata": {},
     "output_type": "execute_result"
    }
   ],
   "source": [
    "# option_tb 2 : keep table name multiple times\n",
    "# option_tb 1 : keep table name once\n",
    "# option_tb 0 : drop table name\n",
    "\n",
    "# option_p 1 : keep ordinal position\n",
    "# option_p 0 : drop ordinal position\n",
    "\n",
    "train_data = uts.df_to_sentence(gdf,1,0)\n",
    "train_data[0]"
   ]
  },
  {
   "cell_type": "code",
   "execution_count": 5,
   "metadata": {},
   "outputs": [
    {
     "data": {
      "text/plain": [
       "TaggedDocument(words=['Agent', 'Action', 'Id', 'Micro', 'Service', 'Agent', 'Id', 'Name', 'Description', 'ML', 'Data', 'Type', 'Id', 'Micro', 'Service', 'Implementation', 'AgentAction'], tags=['AgentAction'])"
      ]
     },
     "execution_count": 5,
     "metadata": {},
     "output_type": "execute_result"
    }
   ],
   "source": [
    "tagged_data_train = uts.tagging_data(train_data)\n",
    "tagged_data_train[0]"
   ]
  },
  {
   "attachments": {},
   "cell_type": "markdown",
   "metadata": {},
   "source": [
    "Processing Test Dataset"
   ]
  },
  {
   "cell_type": "code",
   "execution_count": 6,
   "metadata": {},
   "outputs": [
    {
     "data": {
      "text/plain": [
       "{'A': 'Ontology Audit Id Ontology Event Id Action Action Date Action User Profile Id Field Field Name Previous Value New Value Ontology Id A'}"
      ]
     },
     "execution_count": 6,
     "metadata": {},
     "output_type": "execute_result"
    }
   ],
   "source": [
    "# iterate form -> sentence -> concatenat into a list [,,]\n",
    "test_data = uts.df_to_sentence(gdf_test,1,0)\n",
    "test_data[0]"
   ]
  },
  {
   "cell_type": "code",
   "execution_count": 7,
   "metadata": {},
   "outputs": [
    {
     "data": {
      "text/plain": [
       "TaggedDocument(words=['Ontology', 'Audit', 'Id', 'Ontology', 'Event', 'Id', 'Action', 'Action', 'Date', 'Action', 'User', 'Profile', 'Id', 'Field', 'Field', 'Name', 'Previous', 'Value', 'New', 'Value', 'Ontology', 'Id', 'A'], tags=['A'])"
      ]
     },
     "execution_count": 7,
     "metadata": {},
     "output_type": "execute_result"
    }
   ],
   "source": [
    "tagged_data_test= uts.tagging_data(test_data)\n",
    "tagged_data_test[0]"
   ]
  },
  {
   "attachments": {},
   "cell_type": "markdown",
   "metadata": {},
   "source": [
    "Combine Train + Test Data"
   ]
  },
  {
   "cell_type": "code",
   "execution_count": 8,
   "metadata": {},
   "outputs": [],
   "source": [
    "comb_data = train_data+test_data\n",
    "tagged_data_comb = uts.tagging_data(comb_data)"
   ]
  },
  {
   "attachments": {},
   "cell_type": "markdown",
   "metadata": {},
   "source": [
    "Train w/ Train data"
   ]
  },
  {
   "cell_type": "code",
   "execution_count": 9,
   "metadata": {},
   "outputs": [],
   "source": [
    "#e: epochs, v: vector_size\n",
    "#model = train(tagged_data_train, e = 500, v= 50) \n",
    "model = uts.train(tagged_data_comb, 500, 50) "
   ]
  },
  {
   "attachments": {},
   "cell_type": "markdown",
   "metadata": {},
   "source": [
    "Result"
   ]
  },
  {
   "cell_type": "code",
   "execution_count": 10,
   "metadata": {},
   "outputs": [
    {
     "data": {
      "text/plain": [
       "[('A', 0.9918113350868225),\n",
       " ('A4', 0.9873157143592834),\n",
       " ('A2', 0.9833207130432129),\n",
       " ('A1', 0.9806673526763916),\n",
       " ('A3', 0.9781286120414734),\n",
       " ('A+B', 0.8594748973846436),\n",
       " ('OntologyAttachment', 0.7464991807937622),\n",
       " ('OntologyEntityAudit', 0.726453959941864),\n",
       " ('B', 0.7218414545059204),\n",
       " ('B1', 0.7109195590019226)]"
      ]
     },
     "execution_count": 10,
     "metadata": {},
     "output_type": "execute_result"
    }
   ],
   "source": [
    "# Pulling similar form ranking of form 'OntologyAudit'\n",
    "model.docvecs.most_similar('OntologyAudit')\n"
   ]
  },
  {
   "cell_type": "code",
   "execution_count": 11,
   "metadata": {},
   "outputs": [
    {
     "data": {
      "text/plain": [
       "[('UserPreference', 0.7321043014526367),\n",
       " ('Role', 0.6305222511291504),\n",
       " ('HTMLDocument', 0.6266763210296631),\n",
       " ('ScheduledTask', 0.5884966254234314),\n",
       " ('ComposeGroup', 0.5879925489425659),\n",
       " ('RoleEvent', 0.5769785046577454),\n",
       " ('Topic', 0.5682374835014343),\n",
       " ('ClassificationDomain', 0.567768931388855),\n",
       " ('RoleAudit', 0.557253360748291),\n",
       " ('Grammar', 0.5543255805969238)]"
      ]
     },
     "execution_count": 11,
     "metadata": {},
     "output_type": "execute_result"
    }
   ],
   "source": [
    "# Pulling similar form ranking of form 'UserProfile'\n",
    "similar_doc = model.docvecs.most_similar('UserProfile')\n",
    "similar_doc"
   ]
  },
  {
   "attachments": {},
   "cell_type": "markdown",
   "metadata": {},
   "source": [
    "Load saved model"
   ]
  },
  {
   "cell_type": "code",
   "execution_count": 12,
   "metadata": {},
   "outputs": [],
   "source": [
    "loaded_model = Doc2Vec.load(\"data/d2v.model\")"
   ]
  },
  {
   "attachments": {},
   "cell_type": "markdown",
   "metadata": {},
   "source": [
    "Pairwise matrix for train data"
   ]
  },
  {
   "cell_type": "code",
   "execution_count": 13,
   "metadata": {},
   "outputs": [],
   "source": [
    "tables = pd.DataFrame(gdf).loc[:,0]"
   ]
  },
  {
   "cell_type": "code",
   "execution_count": 14,
   "metadata": {},
   "outputs": [
    {
     "name": "stdout",
     "output_type": "stream",
     "text": [
      "0.73210436\n",
      "0.2678956389427185\n"
     ]
    }
   ],
   "source": [
    "print (loaded_model.docvecs.similarity('UserProfile', 'UserPreference'))\n",
    "print (loaded_model.docvecs.distance('UserProfile', 'UserPreference'))"
   ]
  },
  {
   "attachments": {},
   "cell_type": "markdown",
   "metadata": {},
   "source": [
    "Pairwise matrix for test data"
   ]
  },
  {
   "cell_type": "code",
   "execution_count": 15,
   "metadata": {},
   "outputs": [],
   "source": [
    "test_tables = pd.DataFrame(gdf_test).loc[:,0]"
   ]
  },
  {
   "cell_type": "code",
   "execution_count": 16,
   "metadata": {},
   "outputs": [
    {
     "data": {
      "text/plain": [
       "0"
      ]
     },
     "execution_count": 16,
     "metadata": {},
     "output_type": "execute_result"
    }
   ],
   "source": [
    "# Making table name reference\n",
    "dummy_table = {}\n",
    "\n",
    "for i, val in enumerate(test_tables):\n",
    "    dummy_table[val] = i\n",
    "\n",
    "dummy_table['A']"
   ]
  },
  {
   "attachments": {},
   "cell_type": "markdown",
   "metadata": {},
   "source": [
    "Calculate dist A-A1 method 1"
   ]
  },
  {
   "cell_type": "code",
   "execution_count": 17,
   "metadata": {},
   "outputs": [],
   "source": [
    "score_ = uts.cal_score_unseen('A2', 'A4', model, test_data, dummy_table)"
   ]
  },
  {
   "attachments": {},
   "cell_type": "markdown",
   "metadata": {},
   "source": [
    "Calculate dist A-A1 method 2 - result is the same"
   ]
  },
  {
   "cell_type": "code",
   "execution_count": 18,
   "metadata": {},
   "outputs": [],
   "source": [
    "score_ = uts.cal_score_cos('A2', 'A4', model, test_data, dummy_table, alpha=0.1, min_alpha=0.0001,steps=5)"
   ]
  },
  {
   "attachments": {},
   "cell_type": "markdown",
   "metadata": {},
   "source": [
    "Matrix for Train data"
   ]
  },
  {
   "cell_type": "code",
   "execution_count": 19,
   "metadata": {},
   "outputs": [],
   "source": [
    "# table x table score matrix\n",
    "lst = []\n",
    "\n",
    "for x in tables:\n",
    "    score_x = []\n",
    "    for y in tables:\n",
    "        if x == y:\n",
    "            score_x.append(0) # res dist is not exactly 0. Set to 0 here.\n",
    "        else:\n",
    "            score_x.append(loaded_model.docvecs.distance(x,y)) \n",
    "            \n",
    "    lst.append(score_x)\n",
    "    "
   ]
  },
  {
   "cell_type": "code",
   "execution_count": 20,
   "metadata": {},
   "outputs": [
    {
     "data": {
      "text/html": [
       "<div>\n",
       "<style scoped>\n",
       "    .dataframe tbody tr th:only-of-type {\n",
       "        vertical-align: middle;\n",
       "    }\n",
       "\n",
       "    .dataframe tbody tr th {\n",
       "        vertical-align: top;\n",
       "    }\n",
       "\n",
       "    .dataframe thead th {\n",
       "        text-align: right;\n",
       "    }\n",
       "</style>\n",
       "<table border=\"1\" class=\"dataframe\">\n",
       "  <thead>\n",
       "    <tr style=\"text-align: right;\">\n",
       "      <th></th>\n",
       "      <th>AgentAction</th>\n",
       "      <th>AgentActionAudit</th>\n",
       "      <th>AgentActionEvent</th>\n",
       "      <th>AgentActionImplementation</th>\n",
       "      <th>AgentActionImplementationAudit</th>\n",
       "      <th>AgentActionImplementationEvent</th>\n",
       "      <th>AgentObservable</th>\n",
       "      <th>AgentObservableAudit</th>\n",
       "      <th>AgentObservableEvent</th>\n",
       "      <th>AgentVersion</th>\n",
       "      <th>...</th>\n",
       "      <th>TreeVariableDeclaration</th>\n",
       "      <th>TreeVariableDeclarationAudit</th>\n",
       "      <th>TreeVariableDeclarationEvent</th>\n",
       "      <th>TreeVariableEvent</th>\n",
       "      <th>UserPreference</th>\n",
       "      <th>UserProfile</th>\n",
       "      <th>UserProfileAudit</th>\n",
       "      <th>UserProfileEvent</th>\n",
       "      <th>__CDDataProtectionKeys</th>\n",
       "      <th>__MigrationHistory</th>\n",
       "    </tr>\n",
       "  </thead>\n",
       "  <tbody>\n",
       "    <tr>\n",
       "      <th>AgentAction</th>\n",
       "      <td>0.000000</td>\n",
       "      <td>0.715577</td>\n",
       "      <td>0.882634</td>\n",
       "      <td>0.347428</td>\n",
       "      <td>0.454003</td>\n",
       "      <td>0.587428</td>\n",
       "      <td>0.301082</td>\n",
       "      <td>0.506676</td>\n",
       "      <td>0.635506</td>\n",
       "      <td>0.479887</td>\n",
       "      <td>...</td>\n",
       "      <td>0.569545</td>\n",
       "      <td>0.685142</td>\n",
       "      <td>0.836026</td>\n",
       "      <td>1.045520</td>\n",
       "      <td>0.741065</td>\n",
       "      <td>0.909986</td>\n",
       "      <td>1.229810</td>\n",
       "      <td>1.274357</td>\n",
       "      <td>0.492537</td>\n",
       "      <td>0.457165</td>\n",
       "    </tr>\n",
       "    <tr>\n",
       "      <th>AgentActionAudit</th>\n",
       "      <td>0.715577</td>\n",
       "      <td>0.000000</td>\n",
       "      <td>0.212569</td>\n",
       "      <td>0.356461</td>\n",
       "      <td>0.208650</td>\n",
       "      <td>0.324099</td>\n",
       "      <td>0.657179</td>\n",
       "      <td>0.271253</td>\n",
       "      <td>0.532286</td>\n",
       "      <td>0.546231</td>\n",
       "      <td>...</td>\n",
       "      <td>0.928484</td>\n",
       "      <td>0.625587</td>\n",
       "      <td>0.832569</td>\n",
       "      <td>0.855700</td>\n",
       "      <td>0.788226</td>\n",
       "      <td>0.972069</td>\n",
       "      <td>0.608378</td>\n",
       "      <td>0.794957</td>\n",
       "      <td>0.939134</td>\n",
       "      <td>0.726135</td>\n",
       "    </tr>\n",
       "    <tr>\n",
       "      <th>AgentActionEvent</th>\n",
       "      <td>0.882634</td>\n",
       "      <td>0.212569</td>\n",
       "      <td>0.000000</td>\n",
       "      <td>0.549707</td>\n",
       "      <td>0.538943</td>\n",
       "      <td>0.178017</td>\n",
       "      <td>0.853217</td>\n",
       "      <td>0.566124</td>\n",
       "      <td>0.319763</td>\n",
       "      <td>0.736128</td>\n",
       "      <td>...</td>\n",
       "      <td>1.103551</td>\n",
       "      <td>0.934437</td>\n",
       "      <td>0.654446</td>\n",
       "      <td>0.619058</td>\n",
       "      <td>0.912505</td>\n",
       "      <td>1.083315</td>\n",
       "      <td>0.736515</td>\n",
       "      <td>0.517637</td>\n",
       "      <td>1.102345</td>\n",
       "      <td>0.889783</td>\n",
       "    </tr>\n",
       "    <tr>\n",
       "      <th>AgentActionImplementation</th>\n",
       "      <td>0.347428</td>\n",
       "      <td>0.356461</td>\n",
       "      <td>0.549707</td>\n",
       "      <td>0.000000</td>\n",
       "      <td>0.199525</td>\n",
       "      <td>0.324229</td>\n",
       "      <td>0.242547</td>\n",
       "      <td>0.305064</td>\n",
       "      <td>0.455158</td>\n",
       "      <td>0.326608</td>\n",
       "      <td>...</td>\n",
       "      <td>0.658894</td>\n",
       "      <td>0.654397</td>\n",
       "      <td>0.816389</td>\n",
       "      <td>1.045270</td>\n",
       "      <td>0.490589</td>\n",
       "      <td>0.712875</td>\n",
       "      <td>1.023573</td>\n",
       "      <td>1.078900</td>\n",
       "      <td>0.592937</td>\n",
       "      <td>0.363492</td>\n",
       "    </tr>\n",
       "    <tr>\n",
       "      <th>AgentActionImplementationAudit</th>\n",
       "      <td>0.454003</td>\n",
       "      <td>0.208650</td>\n",
       "      <td>0.538943</td>\n",
       "      <td>0.199525</td>\n",
       "      <td>0.000000</td>\n",
       "      <td>0.309518</td>\n",
       "      <td>0.395412</td>\n",
       "      <td>0.191490</td>\n",
       "      <td>0.546542</td>\n",
       "      <td>0.468943</td>\n",
       "      <td>...</td>\n",
       "      <td>0.757505</td>\n",
       "      <td>0.563131</td>\n",
       "      <td>0.894443</td>\n",
       "      <td>1.063692</td>\n",
       "      <td>0.613582</td>\n",
       "      <td>0.730451</td>\n",
       "      <td>0.716060</td>\n",
       "      <td>0.962926</td>\n",
       "      <td>0.784619</td>\n",
       "      <td>0.558047</td>\n",
       "    </tr>\n",
       "  </tbody>\n",
       "</table>\n",
       "<p>5 rows × 344 columns</p>\n",
       "</div>"
      ],
      "text/plain": [
       "0                               AgentAction  AgentActionAudit  \\\n",
       "AgentAction                        0.000000          0.715577   \n",
       "AgentActionAudit                   0.715577          0.000000   \n",
       "AgentActionEvent                   0.882634          0.212569   \n",
       "AgentActionImplementation          0.347428          0.356461   \n",
       "AgentActionImplementationAudit     0.454003          0.208650   \n",
       "\n",
       "0                               AgentActionEvent  AgentActionImplementation  \\\n",
       "AgentAction                             0.882634                   0.347428   \n",
       "AgentActionAudit                        0.212569                   0.356461   \n",
       "AgentActionEvent                        0.000000                   0.549707   \n",
       "AgentActionImplementation               0.549707                   0.000000   \n",
       "AgentActionImplementationAudit          0.538943                   0.199525   \n",
       "\n",
       "0                               AgentActionImplementationAudit  \\\n",
       "AgentAction                                           0.454003   \n",
       "AgentActionAudit                                      0.208650   \n",
       "AgentActionEvent                                      0.538943   \n",
       "AgentActionImplementation                             0.199525   \n",
       "AgentActionImplementationAudit                        0.000000   \n",
       "\n",
       "0                               AgentActionImplementationEvent  \\\n",
       "AgentAction                                           0.587428   \n",
       "AgentActionAudit                                      0.324099   \n",
       "AgentActionEvent                                      0.178017   \n",
       "AgentActionImplementation                             0.324229   \n",
       "AgentActionImplementationAudit                        0.309518   \n",
       "\n",
       "0                               AgentObservable  AgentObservableAudit  \\\n",
       "AgentAction                            0.301082              0.506676   \n",
       "AgentActionAudit                       0.657179              0.271253   \n",
       "AgentActionEvent                       0.853217              0.566124   \n",
       "AgentActionImplementation              0.242547              0.305064   \n",
       "AgentActionImplementationAudit         0.395412              0.191490   \n",
       "\n",
       "0                               AgentObservableEvent  AgentVersion  ...  \\\n",
       "AgentAction                                 0.635506      0.479887  ...   \n",
       "AgentActionAudit                            0.532286      0.546231  ...   \n",
       "AgentActionEvent                            0.319763      0.736128  ...   \n",
       "AgentActionImplementation                   0.455158      0.326608  ...   \n",
       "AgentActionImplementationAudit              0.546542      0.468943  ...   \n",
       "\n",
       "0                               TreeVariableDeclaration  \\\n",
       "AgentAction                                    0.569545   \n",
       "AgentActionAudit                               0.928484   \n",
       "AgentActionEvent                               1.103551   \n",
       "AgentActionImplementation                      0.658894   \n",
       "AgentActionImplementationAudit                 0.757505   \n",
       "\n",
       "0                               TreeVariableDeclarationAudit  \\\n",
       "AgentAction                                         0.685142   \n",
       "AgentActionAudit                                    0.625587   \n",
       "AgentActionEvent                                    0.934437   \n",
       "AgentActionImplementation                           0.654397   \n",
       "AgentActionImplementationAudit                      0.563131   \n",
       "\n",
       "0                               TreeVariableDeclarationEvent  \\\n",
       "AgentAction                                         0.836026   \n",
       "AgentActionAudit                                    0.832569   \n",
       "AgentActionEvent                                    0.654446   \n",
       "AgentActionImplementation                           0.816389   \n",
       "AgentActionImplementationAudit                      0.894443   \n",
       "\n",
       "0                               TreeVariableEvent  UserPreference  \\\n",
       "AgentAction                              1.045520        0.741065   \n",
       "AgentActionAudit                         0.855700        0.788226   \n",
       "AgentActionEvent                         0.619058        0.912505   \n",
       "AgentActionImplementation                1.045270        0.490589   \n",
       "AgentActionImplementationAudit           1.063692        0.613582   \n",
       "\n",
       "0                               UserProfile  UserProfileAudit  \\\n",
       "AgentAction                        0.909986          1.229810   \n",
       "AgentActionAudit                   0.972069          0.608378   \n",
       "AgentActionEvent                   1.083315          0.736515   \n",
       "AgentActionImplementation          0.712875          1.023573   \n",
       "AgentActionImplementationAudit     0.730451          0.716060   \n",
       "\n",
       "0                               UserProfileEvent  __CDDataProtectionKeys  \\\n",
       "AgentAction                             1.274357                0.492537   \n",
       "AgentActionAudit                        0.794957                0.939134   \n",
       "AgentActionEvent                        0.517637                1.102345   \n",
       "AgentActionImplementation               1.078900                0.592937   \n",
       "AgentActionImplementationAudit          0.962926                0.784619   \n",
       "\n",
       "0                               __MigrationHistory  \n",
       "AgentAction                               0.457165  \n",
       "AgentActionAudit                          0.726135  \n",
       "AgentActionEvent                          0.889783  \n",
       "AgentActionImplementation                 0.363492  \n",
       "AgentActionImplementationAudit            0.558047  \n",
       "\n",
       "[5 rows x 344 columns]"
      ]
     },
     "execution_count": 20,
     "metadata": {},
     "output_type": "execute_result"
    }
   ],
   "source": [
    "# list to df\n",
    "matrix = pd.DataFrame.from_records(lst)\n",
    "matrix.set_axis(tables, axis=1, inplace=True)\n",
    "matrix.rename(tables, inplace=True)\n",
    "matrix.head()"
   ]
  },
  {
   "cell_type": "code",
   "execution_count": 21,
   "metadata": {},
   "outputs": [],
   "source": [
    "# df to csv\n",
    "matrix.to_csv('result/result_matrix.csv')"
   ]
  },
  {
   "attachments": {},
   "cell_type": "markdown",
   "metadata": {},
   "source": [
    "Matrix for Test data"
   ]
  },
  {
   "cell_type": "code",
   "execution_count": 22,
   "metadata": {},
   "outputs": [],
   "source": [
    "# table x table score matrix\n",
    "# distance = 1 - similarity score\n",
    "lst_test = []\n",
    "\n",
    "for x in test_tables:\n",
    "    score_x = []\n",
    "    for y in test_tables:\n",
    "        if x == y:\n",
    "            score_x.append(0) # res dist is not exactly 0. Set to 0 here.\n",
    "        else:\n",
    "            dist = 1 - (loaded_model.docvecs.similarity_unseen_docs(loaded_model, [x],[y])) #np.abs\n",
    "            score_x.append(dist) \n",
    "            \n",
    "    lst_test.append(score_x)"
   ]
  },
  {
   "cell_type": "code",
   "execution_count": 23,
   "metadata": {},
   "outputs": [
    {
     "data": {
      "text/html": [
       "<div>\n",
       "<style scoped>\n",
       "    .dataframe tbody tr th:only-of-type {\n",
       "        vertical-align: middle;\n",
       "    }\n",
       "\n",
       "    .dataframe tbody tr th {\n",
       "        vertical-align: top;\n",
       "    }\n",
       "\n",
       "    .dataframe thead th {\n",
       "        text-align: right;\n",
       "    }\n",
       "</style>\n",
       "<table border=\"1\" class=\"dataframe\">\n",
       "  <thead>\n",
       "    <tr style=\"text-align: right;\">\n",
       "      <th></th>\n",
       "      <th>A</th>\n",
       "      <th>A+B</th>\n",
       "      <th>A1</th>\n",
       "      <th>A2</th>\n",
       "      <th>A3</th>\n",
       "      <th>A4</th>\n",
       "      <th>B</th>\n",
       "      <th>B1</th>\n",
       "      <th>C</th>\n",
       "      <th>D</th>\n",
       "    </tr>\n",
       "  </thead>\n",
       "  <tbody>\n",
       "    <tr>\n",
       "      <th>A</th>\n",
       "      <td>0.000000</td>\n",
       "      <td>1.033015</td>\n",
       "      <td>1.014507</td>\n",
       "      <td>1.188577</td>\n",
       "      <td>1.092923</td>\n",
       "      <td>1.033058</td>\n",
       "      <td>0.889648</td>\n",
       "      <td>1.013223</td>\n",
       "      <td>1.035516</td>\n",
       "      <td>0.870767</td>\n",
       "    </tr>\n",
       "    <tr>\n",
       "      <th>A+B</th>\n",
       "      <td>1.033015</td>\n",
       "      <td>0.000000</td>\n",
       "      <td>1.212400</td>\n",
       "      <td>0.785388</td>\n",
       "      <td>0.892105</td>\n",
       "      <td>1.228608</td>\n",
       "      <td>0.878109</td>\n",
       "      <td>0.838029</td>\n",
       "      <td>0.987368</td>\n",
       "      <td>1.095183</td>\n",
       "    </tr>\n",
       "    <tr>\n",
       "      <th>A1</th>\n",
       "      <td>1.014507</td>\n",
       "      <td>1.212400</td>\n",
       "      <td>0.000000</td>\n",
       "      <td>1.050145</td>\n",
       "      <td>1.034678</td>\n",
       "      <td>1.037129</td>\n",
       "      <td>1.104812</td>\n",
       "      <td>1.123838</td>\n",
       "      <td>0.998066</td>\n",
       "      <td>0.923063</td>\n",
       "    </tr>\n",
       "    <tr>\n",
       "      <th>A2</th>\n",
       "      <td>1.188577</td>\n",
       "      <td>0.785388</td>\n",
       "      <td>1.050145</td>\n",
       "      <td>0.000000</td>\n",
       "      <td>1.003367</td>\n",
       "      <td>1.320668</td>\n",
       "      <td>0.950800</td>\n",
       "      <td>0.780700</td>\n",
       "      <td>1.192678</td>\n",
       "      <td>1.116340</td>\n",
       "    </tr>\n",
       "    <tr>\n",
       "      <th>A3</th>\n",
       "      <td>1.092923</td>\n",
       "      <td>0.892105</td>\n",
       "      <td>1.034678</td>\n",
       "      <td>1.003367</td>\n",
       "      <td>0.000000</td>\n",
       "      <td>0.889323</td>\n",
       "      <td>0.992034</td>\n",
       "      <td>0.787728</td>\n",
       "      <td>0.919608</td>\n",
       "      <td>0.814573</td>\n",
       "    </tr>\n",
       "  </tbody>\n",
       "</table>\n",
       "</div>"
      ],
      "text/plain": [
       "0           A       A+B        A1        A2        A3        A4         B  \\\n",
       "A    0.000000  1.033015  1.014507  1.188577  1.092923  1.033058  0.889648   \n",
       "A+B  1.033015  0.000000  1.212400  0.785388  0.892105  1.228608  0.878109   \n",
       "A1   1.014507  1.212400  0.000000  1.050145  1.034678  1.037129  1.104812   \n",
       "A2   1.188577  0.785388  1.050145  0.000000  1.003367  1.320668  0.950800   \n",
       "A3   1.092923  0.892105  1.034678  1.003367  0.000000  0.889323  0.992034   \n",
       "\n",
       "0          B1         C         D  \n",
       "A    1.013223  1.035516  0.870767  \n",
       "A+B  0.838029  0.987368  1.095183  \n",
       "A1   1.123838  0.998066  0.923063  \n",
       "A2   0.780700  1.192678  1.116340  \n",
       "A3   0.787728  0.919608  0.814573  "
      ]
     },
     "execution_count": 23,
     "metadata": {},
     "output_type": "execute_result"
    }
   ],
   "source": [
    "# list to df\n",
    "matrix_test = pd.DataFrame.from_records(lst_test)\n",
    "matrix_test.set_axis(test_tables, axis=1, inplace=True)\n",
    "matrix_test.rename(test_tables, inplace=True)\n",
    "matrix_test.head()"
   ]
  },
  {
   "attachments": {},
   "cell_type": "markdown",
   "metadata": {},
   "source": [
    "Distance Tree for Training Data"
   ]
  },
  {
   "cell_type": "code",
   "execution_count": 24,
   "metadata": {},
   "outputs": [],
   "source": [
    "from skbio import DistanceMatrix\n",
    "from skbio.tree import nj\n",
    "#run: pip install scikit-bio"
   ]
  },
  {
   "cell_type": "code",
   "execution_count": 25,
   "metadata": {},
   "outputs": [],
   "source": [
    "dm = DistanceMatrix(matrix, tables)\n",
    "tree = nj(dm)\n",
    "str_tree = tree.ascii_art()"
   ]
  },
  {
   "cell_type": "code",
   "execution_count": 26,
   "metadata": {},
   "outputs": [],
   "source": [
    "text_file = open(\"result/tree_train.txt\", \"w\")\n",
    "text_file.write(str_tree)\n",
    "text_file.close()"
   ]
  },
  {
   "attachments": {},
   "cell_type": "markdown",
   "metadata": {},
   "source": [
    "Distance Tree for Test Data"
   ]
  },
  {
   "cell_type": "code",
   "execution_count": 27,
   "metadata": {},
   "outputs": [],
   "source": [
    "dm = DistanceMatrix(matrix_test, test_tables)\n",
    "tree = nj(dm)\n",
    "str_tree = tree.ascii_art()\n",
    "\n",
    "text_file = open(\"result/tree_test.txt\", \"w\")\n",
    "text_file.write(str_tree)\n",
    "text_file.close()"
   ]
  }
 ],
 "metadata": {
  "kernelspec": {
   "display_name": "Python 3 (ipykernel)",
   "language": "python",
   "name": "python3"
  },
  "orig_nbformat": 4,
  "vscode": {
   "interpreter": {
    "hash": "4effbd762d6eb796ccf5bf9e233d3c9151be40d486c574f3d7f50d75226bfe66"
   }
  }
 },
 "nbformat": 4,
 "nbformat_minor": 2
}
