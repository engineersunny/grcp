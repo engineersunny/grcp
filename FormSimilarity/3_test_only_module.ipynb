{
 "cells": [
  {
   "cell_type": "code",
   "execution_count": 1,
   "metadata": {},
   "outputs": [],
   "source": [
    "import pandas as pd\n",
    "import numpy as np\n",
    "import gensim\n",
    "from gensim.models.doc2vec import Doc2Vec, TaggedDocument\n",
    "from nltk.tokenize import word_tokenize\n",
    "from gensim.models.doc2vec import Doc2Vec\n",
    "\n",
    "from skbio import DistanceMatrix\n",
    "from skbio.tree import nj\n",
    "#run: pip install scikit-bio\n",
    "\n",
    "import uts"
   ]
  },
  {
   "attachments": {},
   "cell_type": "markdown",
   "metadata": {},
   "source": [
    "Read Test Data"
   ]
  },
  {
   "cell_type": "code",
   "execution_count": 2,
   "metadata": {},
   "outputs": [
    {
     "name": "stderr",
     "output_type": "stream",
     "text": [
      "/home/sunny/miniconda3/envs/env5/lib/python3.7/site-packages/pandas/core/indexing.py:1817: SettingWithCopyWarning: \n",
      "A value is trying to be set on a copy of a slice from a DataFrame.\n",
      "Try using .loc[row_indexer,col_indexer] = value instead\n",
      "\n",
      "See the caveats in the documentation: https://pandas.pydata.org/pandas-docs/stable/user_guide/indexing.html#returning-a-view-versus-a-copy\n",
      "  self._setitem_single_column(loc, value, pi)\n"
     ]
    }
   ],
   "source": [
    "ddf = pd.read_csv('data/Form relationships_dummy tables.csv')\n",
    "gdf_test = uts.process_data(ddf)\n",
    "#gdf_test.get_group('A')"
   ]
  },
  {
   "attachments": {},
   "cell_type": "markdown",
   "metadata": {},
   "source": [
    "Processing Test Dataset"
   ]
  },
  {
   "cell_type": "code",
   "execution_count": 3,
   "metadata": {},
   "outputs": [
    {
     "data": {
      "text/plain": [
       "{'A': 'Ontology Audit Id Ontology Event Id Action Action Date Action User Profile Id Field Field Name Previous Value New Value Ontology Id A'}"
      ]
     },
     "execution_count": 3,
     "metadata": {},
     "output_type": "execute_result"
    }
   ],
   "source": [
    "# iterate form -> sentence -> concatenat into a list [,,]\n",
    "test_data = uts.df_to_sentence(gdf_test,1,0)\n",
    "test_data[0]"
   ]
  },
  {
   "cell_type": "code",
   "execution_count": 4,
   "metadata": {},
   "outputs": [
    {
     "data": {
      "text/plain": [
       "TaggedDocument(words=['Ontology', 'Audit', 'Id', 'Ontology', 'Event', 'Id', 'Action', 'Action', 'Date', 'Action', 'User', 'Profile', 'Id', 'Field', 'Field', 'Name', 'Previous', 'Value', 'New', 'Value', 'Ontology', 'Id', 'A'], tags=['A'])"
      ]
     },
     "execution_count": 4,
     "metadata": {},
     "output_type": "execute_result"
    }
   ],
   "source": [
    "tagged_data_test= uts.tagging_data(test_data)\n",
    "tagged_data_test[0]"
   ]
  },
  {
   "attachments": {},
   "cell_type": "markdown",
   "metadata": {},
   "source": [
    "Result"
   ]
  },
  {
   "attachments": {},
   "cell_type": "markdown",
   "metadata": {},
   "source": [
    "Load saved model"
   ]
  },
  {
   "cell_type": "code",
   "execution_count": 5,
   "metadata": {},
   "outputs": [],
   "source": [
    "loaded_model = Doc2Vec.load(\"data/d2v.model\")"
   ]
  },
  {
   "attachments": {},
   "cell_type": "markdown",
   "metadata": {},
   "source": [
    "Pairwise matrix for test data"
   ]
  },
  {
   "cell_type": "code",
   "execution_count": 6,
   "metadata": {},
   "outputs": [],
   "source": [
    "test_tables = pd.DataFrame(gdf_test).loc[:,0]"
   ]
  },
  {
   "cell_type": "code",
   "execution_count": 7,
   "metadata": {},
   "outputs": [
    {
     "data": {
      "text/plain": [
       "0"
      ]
     },
     "execution_count": 7,
     "metadata": {},
     "output_type": "execute_result"
    }
   ],
   "source": [
    "# Making table name reference\n",
    "dummy_table = {}\n",
    "\n",
    "for i, val in enumerate(test_tables):\n",
    "    dummy_table[val] = i\n",
    "\n",
    "dummy_table['A']"
   ]
  },
  {
   "attachments": {},
   "cell_type": "markdown",
   "metadata": {},
   "source": [
    "Calculate score"
   ]
  },
  {
   "cell_type": "code",
   "execution_count": 8,
   "metadata": {},
   "outputs": [],
   "source": [
    "#score_ = uts.cal_score_unseen('A2', 'A4', loaded_model, test_data, dummy_table)\n",
    "#score_ = uts.cal_score_cos('A2', 'A4', loaded_model, test_data, dummy_table, alpha=0.1, min_alpha=0.0001,steps=5)"
   ]
  },
  {
   "attachments": {},
   "cell_type": "markdown",
   "metadata": {},
   "source": [
    "Matrix for Test data"
   ]
  },
  {
   "cell_type": "code",
   "execution_count": 9,
   "metadata": {},
   "outputs": [
    {
     "name": "stdout",
     "output_type": "stream",
     "text": [
      "1.273089438676834\n",
      "0.9040987268090248\n",
      "1.1647024601697922\n",
      "1.074260264635086\n",
      "0.9834027327597141\n",
      "0.9519652277231216\n",
      "1.284972369670868\n",
      "0.8859104365110397\n",
      "1.4316421747207642\n",
      "1.273089438676834\n",
      "0.9485472440719604\n",
      "1.1628867536783218\n",
      "0.9809514451771975\n",
      "0.9465484209358692\n",
      "0.9468966387212276\n",
      "1.033720750361681\n",
      "1.0358270183205605\n",
      "0.58649080991745\n",
      "0.9040987268090248\n",
      "0.9485472440719604\n",
      "1.0342564433813095\n",
      "1.0676769465208054\n",
      "1.1404753178358078\n",
      "1.1281826794147491\n",
      "1.0571990087628365\n",
      "1.00918881688267\n",
      "1.210363119840622\n",
      "1.1647024601697922\n",
      "1.1628867536783218\n",
      "1.0342564433813095\n",
      "1.1186556965112686\n",
      "1.0444616042077541\n",
      "1.2100297659635544\n",
      "1.0837761089205742\n",
      "1.0235667675733566\n",
      "0.8637887090444565\n",
      "1.074260264635086\n",
      "0.9809514451771975\n",
      "1.0676769465208054\n",
      "1.1186556965112686\n",
      "0.9447369575500488\n",
      "1.0137690640985966\n",
      "0.8738696873188019\n",
      "0.8673874139785767\n",
      "0.9904365390539169\n",
      "0.9834027327597141\n",
      "0.9465484209358692\n",
      "1.1404753178358078\n",
      "1.0444616042077541\n",
      "0.9447369575500488\n",
      "1.1427073925733566\n",
      "1.184932455420494\n",
      "0.8471930623054504\n",
      "1.1615214049816132\n",
      "0.9519652277231216\n",
      "0.9468966387212276\n",
      "1.1281826794147491\n",
      "1.2100297659635544\n",
      "1.0137690640985966\n",
      "1.1427073925733566\n",
      "1.0618949607014656\n",
      "1.0271464604884386\n",
      "0.9072837829589844\n",
      "1.284972369670868\n",
      "1.033720750361681\n",
      "1.0571990087628365\n",
      "1.0837761089205742\n",
      "0.8738696873188019\n",
      "1.184932455420494\n",
      "1.0618949607014656\n",
      "1.1496498435735703\n",
      "0.86236272752285\n",
      "0.8859104365110397\n",
      "1.0358270183205605\n",
      "1.00918881688267\n",
      "1.0235667675733566\n",
      "0.8673874139785767\n",
      "0.8471930623054504\n",
      "1.0271464604884386\n",
      "1.1496498435735703\n",
      "1.15035080909729\n",
      "1.4316421747207642\n",
      "0.58649080991745\n",
      "1.210363119840622\n",
      "0.8637887090444565\n",
      "0.9904365390539169\n",
      "1.1615214049816132\n",
      "0.9072837829589844\n",
      "0.86236272752285\n",
      "1.15035080909729\n"
     ]
    }
   ],
   "source": [
    "# dist_neg \n",
    "# 1: use negative score value \n",
    "# 0: abs(negative score value)\n",
    "lst_test = uts.matrix(test_tables, loaded_model,  test_data, dummy_table, dist_neg = 1)"
   ]
  },
  {
   "cell_type": "markdown",
   "metadata": {},
   "source": []
  },
  {
   "cell_type": "code",
   "execution_count": 10,
   "metadata": {},
   "outputs": [
    {
     "data": {
      "text/html": [
       "<div>\n",
       "<style scoped>\n",
       "    .dataframe tbody tr th:only-of-type {\n",
       "        vertical-align: middle;\n",
       "    }\n",
       "\n",
       "    .dataframe tbody tr th {\n",
       "        vertical-align: top;\n",
       "    }\n",
       "\n",
       "    .dataframe thead th {\n",
       "        text-align: right;\n",
       "    }\n",
       "</style>\n",
       "<table border=\"1\" class=\"dataframe\">\n",
       "  <thead>\n",
       "    <tr style=\"text-align: right;\">\n",
       "      <th></th>\n",
       "      <th>A</th>\n",
       "      <th>A+B</th>\n",
       "      <th>A1</th>\n",
       "      <th>A2</th>\n",
       "      <th>A3</th>\n",
       "      <th>A4</th>\n",
       "      <th>B</th>\n",
       "      <th>B1</th>\n",
       "      <th>C</th>\n",
       "      <th>D</th>\n",
       "    </tr>\n",
       "  </thead>\n",
       "  <tbody>\n",
       "    <tr>\n",
       "      <th>A</th>\n",
       "      <td>0.000000</td>\n",
       "      <td>1.273089</td>\n",
       "      <td>0.904099</td>\n",
       "      <td>1.164702</td>\n",
       "      <td>1.074260</td>\n",
       "      <td>0.983403</td>\n",
       "      <td>0.951965</td>\n",
       "      <td>1.284972</td>\n",
       "      <td>0.885910</td>\n",
       "      <td>1.431642</td>\n",
       "    </tr>\n",
       "    <tr>\n",
       "      <th>A+B</th>\n",
       "      <td>1.273089</td>\n",
       "      <td>0.000000</td>\n",
       "      <td>0.948547</td>\n",
       "      <td>1.162887</td>\n",
       "      <td>0.980951</td>\n",
       "      <td>0.946548</td>\n",
       "      <td>0.946897</td>\n",
       "      <td>1.033721</td>\n",
       "      <td>1.035827</td>\n",
       "      <td>0.586491</td>\n",
       "    </tr>\n",
       "    <tr>\n",
       "      <th>A1</th>\n",
       "      <td>0.904099</td>\n",
       "      <td>0.948547</td>\n",
       "      <td>0.000000</td>\n",
       "      <td>1.034256</td>\n",
       "      <td>1.067677</td>\n",
       "      <td>1.140475</td>\n",
       "      <td>1.128183</td>\n",
       "      <td>1.057199</td>\n",
       "      <td>1.009189</td>\n",
       "      <td>1.210363</td>\n",
       "    </tr>\n",
       "    <tr>\n",
       "      <th>A2</th>\n",
       "      <td>1.164702</td>\n",
       "      <td>1.162887</td>\n",
       "      <td>1.034256</td>\n",
       "      <td>0.000000</td>\n",
       "      <td>1.118656</td>\n",
       "      <td>1.044462</td>\n",
       "      <td>1.210030</td>\n",
       "      <td>1.083776</td>\n",
       "      <td>1.023567</td>\n",
       "      <td>0.863789</td>\n",
       "    </tr>\n",
       "    <tr>\n",
       "      <th>A3</th>\n",
       "      <td>1.074260</td>\n",
       "      <td>0.980951</td>\n",
       "      <td>1.067677</td>\n",
       "      <td>1.118656</td>\n",
       "      <td>0.000000</td>\n",
       "      <td>0.944737</td>\n",
       "      <td>1.013769</td>\n",
       "      <td>0.873870</td>\n",
       "      <td>0.867387</td>\n",
       "      <td>0.990437</td>\n",
       "    </tr>\n",
       "  </tbody>\n",
       "</table>\n",
       "</div>"
      ],
      "text/plain": [
       "0           A       A+B        A1        A2        A3        A4         B  \\\n",
       "A    0.000000  1.273089  0.904099  1.164702  1.074260  0.983403  0.951965   \n",
       "A+B  1.273089  0.000000  0.948547  1.162887  0.980951  0.946548  0.946897   \n",
       "A1   0.904099  0.948547  0.000000  1.034256  1.067677  1.140475  1.128183   \n",
       "A2   1.164702  1.162887  1.034256  0.000000  1.118656  1.044462  1.210030   \n",
       "A3   1.074260  0.980951  1.067677  1.118656  0.000000  0.944737  1.013769   \n",
       "\n",
       "0          B1         C         D  \n",
       "A    1.284972  0.885910  1.431642  \n",
       "A+B  1.033721  1.035827  0.586491  \n",
       "A1   1.057199  1.009189  1.210363  \n",
       "A2   1.083776  1.023567  0.863789  \n",
       "A3   0.873870  0.867387  0.990437  "
      ]
     },
     "execution_count": 10,
     "metadata": {},
     "output_type": "execute_result"
    }
   ],
   "source": [
    "# list to df\n",
    "matrix_test = pd.DataFrame.from_records(lst_test)\n",
    "matrix_test.set_axis(test_tables, axis=1, inplace=True)\n",
    "matrix_test.rename(test_tables, inplace=True)\n",
    "matrix_test.head()"
   ]
  },
  {
   "attachments": {},
   "cell_type": "markdown",
   "metadata": {},
   "source": [
    "Distance Tree for Test Data"
   ]
  },
  {
   "cell_type": "code",
   "execution_count": 11,
   "metadata": {},
   "outputs": [],
   "source": [
    "dm = DistanceMatrix(matrix_test, test_tables)\n",
    "tree = nj(dm)\n",
    "str_tree = tree.ascii_art()\n",
    "\n",
    "text_file = open(\"result/tree_test.txt\", \"w\")\n",
    "text_file.write(str_tree)\n",
    "text_file.close()"
   ]
  }
 ],
 "metadata": {
  "kernelspec": {
   "display_name": "Python (env5)",
   "language": "python",
   "name": "env5"
  },
  "language_info": {
   "codemirror_mode": {
    "name": "ipython",
    "version": 3
   },
   "file_extension": ".py",
   "mimetype": "text/x-python",
   "name": "python",
   "nbconvert_exporter": "python",
   "pygments_lexer": "ipython3",
   "version": "3.7.11"
  },
  "orig_nbformat": 4,
  "vscode": {
   "interpreter": {
    "hash": "4effbd762d6eb796ccf5bf9e233d3c9151be40d486c574f3d7f50d75226bfe66"
   }
  }
 },
 "nbformat": 4,
 "nbformat_minor": 2
}
