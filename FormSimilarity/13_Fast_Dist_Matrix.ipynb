{
 "cells": [
  {
   "cell_type": "code",
   "execution_count": null,
   "metadata": {},
   "outputs": [],
   "source": []
  }
 ],
 "metadata": {
  "kernelspec": {
   "display_name": "envKedro",
   "language": "python",
   "name": "python3"
  },
  "language_info": {
   "name": "python",
   "version": "3.7.15"
  },
  "orig_nbformat": 4,
  "vscode": {
   "interpreter": {
    "hash": "067fbafb8497a6b213015d42733fcc9edf67b269b0a1726470d212d235a61220"
   }
  }
 },
 "nbformat": 4,
 "nbformat_minor": 2
}
