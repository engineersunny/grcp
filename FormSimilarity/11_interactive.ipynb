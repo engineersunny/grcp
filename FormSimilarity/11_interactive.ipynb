{
 "cells": [
  {
   "cell_type": "code",
   "execution_count": null,
   "metadata": {},
   "outputs": [],
   "source": [
    "#https://towardsdatascience.com/creating-beautiful-stand-alone-interactive-d3-charts-with-python-804117cb95a7\n",
    "\n",
    "<main html file - index.html>\n",
    "\n",
    "The Cascading Style Sheets (CSS) as style.css\n",
    "The D3 module as d3.v3.js\n",
    "The javascript to build the chart as d3graphscript.js\n",
    "The Data as json_data"
   ]
  }
 ],
 "metadata": {
  "kernelspec": {
   "display_name": "envKedro",
   "language": "python",
   "name": "python3"
  },
  "language_info": {
   "name": "python",
   "version": "3.7.15"
  },
  "orig_nbformat": 4,
  "vscode": {
   "interpreter": {
    "hash": "067fbafb8497a6b213015d42733fcc9edf67b269b0a1726470d212d235a61220"
   }
  }
 },
 "nbformat": 4,
 "nbformat_minor": 2
}
