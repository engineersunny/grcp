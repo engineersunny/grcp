{
 "cells": [
  {
   "cell_type": "code",
   "execution_count": 1,
   "metadata": {},
   "outputs": [],
   "source": [
    "import pandas as pd\n",
    "import numpy as np\n",
    "import gensim\n",
    "from gensim.models.doc2vec import Doc2Vec, TaggedDocument\n",
    "from nltk.tokenize import word_tokenize\n",
    "from gensim.models.doc2vec import Doc2Vec\n",
    "\n",
    "from skbio import DistanceMatrix\n",
    "from skbio.tree import nj\n",
    "\n",
    "import uts"
   ]
  },
  {
   "attachments": {},
   "cell_type": "markdown",
   "metadata": {},
   "source": [
    "Reordered our dummy data (A,A1...D) based on the distance from A and renamed it.\n",
    "\n",
    "dist_new_full: reordered distance matrix\n",
    "\n",
    "dist_new_small: omitted same forms e.g. A=A1=A2 > got rid of A1 and A2"
   ]
  },
  {
   "attachments": {},
   "cell_type": "markdown",
   "metadata": {},
   "source": [
    "Simple Matrix to Tree"
   ]
  },
  {
   "cell_type": "code",
   "execution_count": 2,
   "metadata": {},
   "outputs": [
    {
     "data": {
      "text/html": [
       "<div>\n",
       "<style scoped>\n",
       "    .dataframe tbody tr th:only-of-type {\n",
       "        vertical-align: middle;\n",
       "    }\n",
       "\n",
       "    .dataframe tbody tr th {\n",
       "        vertical-align: top;\n",
       "    }\n",
       "\n",
       "    .dataframe thead th {\n",
       "        text-align: right;\n",
       "    }\n",
       "</style>\n",
       "<table border=\"1\" class=\"dataframe\">\n",
       "  <thead>\n",
       "    <tr style=\"text-align: right;\">\n",
       "      <th></th>\n",
       "      <th>A1</th>\n",
       "      <th>A+B</th>\n",
       "      <th>B</th>\n",
       "      <th>C</th>\n",
       "      <th>D1</th>\n",
       "      <th>Outlier</th>\n",
       "    </tr>\n",
       "  </thead>\n",
       "  <tbody>\n",
       "    <tr>\n",
       "      <th>A1</th>\n",
       "      <td>0.000000</td>\n",
       "      <td>0.100000</td>\n",
       "      <td>0.230769</td>\n",
       "      <td>0.300000</td>\n",
       "      <td>0.461538</td>\n",
       "      <td>1</td>\n",
       "    </tr>\n",
       "    <tr>\n",
       "      <th>A+B</th>\n",
       "      <td>0.100000</td>\n",
       "      <td>0.000000</td>\n",
       "      <td>0.307692</td>\n",
       "      <td>0.222222</td>\n",
       "      <td>0.416667</td>\n",
       "      <td>1</td>\n",
       "    </tr>\n",
       "    <tr>\n",
       "      <th>B</th>\n",
       "      <td>0.230769</td>\n",
       "      <td>0.307692</td>\n",
       "      <td>0.000000</td>\n",
       "      <td>0.461538</td>\n",
       "      <td>0.230769</td>\n",
       "      <td>1</td>\n",
       "    </tr>\n",
       "    <tr>\n",
       "      <th>C</th>\n",
       "      <td>0.300000</td>\n",
       "      <td>0.222222</td>\n",
       "      <td>0.461538</td>\n",
       "      <td>0.000000</td>\n",
       "      <td>0.300000</td>\n",
       "      <td>1</td>\n",
       "    </tr>\n",
       "    <tr>\n",
       "      <th>D1</th>\n",
       "      <td>0.461538</td>\n",
       "      <td>0.416667</td>\n",
       "      <td>0.230769</td>\n",
       "      <td>0.300000</td>\n",
       "      <td>0.000000</td>\n",
       "      <td>1</td>\n",
       "    </tr>\n",
       "    <tr>\n",
       "      <th>Outlier</th>\n",
       "      <td>1.000000</td>\n",
       "      <td>1.000000</td>\n",
       "      <td>1.000000</td>\n",
       "      <td>1.000000</td>\n",
       "      <td>1.000000</td>\n",
       "      <td>0</td>\n",
       "    </tr>\n",
       "  </tbody>\n",
       "</table>\n",
       "</div>"
      ],
      "text/plain": [
       "               A1       A+B         B         C        D1  Outlier\n",
       "A1       0.000000  0.100000  0.230769  0.300000  0.461538        1\n",
       "A+B      0.100000  0.000000  0.307692  0.222222  0.416667        1\n",
       "B        0.230769  0.307692  0.000000  0.461538  0.230769        1\n",
       "C        0.300000  0.222222  0.461538  0.000000  0.300000        1\n",
       "D1       0.461538  0.416667  0.230769  0.300000  0.000000        1\n",
       "Outlier  1.000000  1.000000  1.000000  1.000000  1.000000        0"
      ]
     },
     "execution_count": 2,
     "metadata": {},
     "output_type": "execute_result"
    }
   ],
   "source": [
    "mtr_new = pd.read_csv('result/dist_new_small.csv')\n",
    "mtr_new"
   ]
  },
  {
   "cell_type": "code",
   "execution_count": 3,
   "metadata": {},
   "outputs": [],
   "source": [
    "header = list(mtr_new.columns)"
   ]
  },
  {
   "cell_type": "code",
   "execution_count": 4,
   "metadata": {},
   "outputs": [
    {
     "name": "stdout",
     "output_type": "stream",
     "text": [
      "                    /-D1\n",
      "          /--------|\n",
      "         |          \\-B\n",
      "         |\n",
      "         |          /-C\n",
      "---------|---------|\n",
      "         |         |          /-A+B\n",
      "         |          \\--------|\n",
      "         |                    \\-A1\n",
      "         |\n",
      "          \\-Outlier\n"
     ]
    }
   ],
   "source": [
    "dm = DistanceMatrix(mtr_new, header)\n",
    "tree = nj(dm)\n",
    "str_tree = tree.ascii_art()\n",
    "\n",
    "print(str_tree)\n",
    "\n",
    "# text_file = open(\"result/tree_wiki.txt\", \"w\")\n",
    "# text_file.write(str_tree)\n",
    "# text_file.close()\n"
   ]
  },
  {
   "attachments": {},
   "cell_type": "markdown",
   "metadata": {},
   "source": [
    "Full Matrix to Tree"
   ]
  },
  {
   "cell_type": "code",
   "execution_count": 5,
   "metadata": {},
   "outputs": [
    {
     "name": "stdout",
     "output_type": "stream",
     "text": [
      "A1~A4 | A+B | B | C | D1~D2 | Outlier\n",
      "          /-A3\n",
      "         |\n",
      "         |          /-A2\n",
      "         |---------|\n",
      "         |         |          /-A1\n",
      "         |          \\--------|\n",
      "         |                   |          /-A+B\n",
      "         |                    \\--------|\n",
      "         |                             |          /-C\n",
      "---------|                              \\--------|\n",
      "         |                                       |          /-Outlier\n",
      "         |                                        \\--------|\n",
      "         |                                                 |          /-B\n",
      "         |                                                  \\--------|\n",
      "         |                                                           |          /-D2\n",
      "         |                                                            \\--------|\n",
      "         |                                                                      \\-D1\n",
      "         |\n",
      "          \\-A4\n"
     ]
    }
   ],
   "source": [
    "mtr_new = pd.read_csv('result/dist_new_full.csv')\n",
    "mtr_new\n",
    "\n",
    "print(\"A1~A4 | A+B | B | C | D1~D2 | Outlier\")\n",
    "header = list(mtr_new.columns)\n",
    "\n",
    "dm = DistanceMatrix(mtr_new, header)\n",
    "tree = nj(dm)\n",
    "\n",
    "tree.root_at_midpoint\n",
    "\n",
    "str_tree = tree.ascii_art()\n",
    "\n",
    "print(str_tree)"
   ]
  },
  {
   "cell_type": "code",
   "execution_count": 6,
   "metadata": {},
   "outputs": [
    {
     "ename": "AttributeError",
     "evalue": "'DistanceMatrix' object has no attribute 'type'",
     "output_type": "error",
     "traceback": [
      "\u001b[0;31m---------------------------------------------------------------------------\u001b[0m",
      "\u001b[0;31mAttributeError\u001b[0m                            Traceback (most recent call last)",
      "\u001b[0;32m/tmp/ipykernel_21755/1194330882.py\u001b[0m in \u001b[0;36m<module>\u001b[0;34m\u001b[0m\n\u001b[0;32m----> 1\u001b[0;31m \u001b[0mdm\u001b[0m\u001b[0;34m.\u001b[0m\u001b[0mtype\u001b[0m\u001b[0;34m(\u001b[0m\u001b[0;34m)\u001b[0m\u001b[0;34m\u001b[0m\u001b[0;34m\u001b[0m\u001b[0m\n\u001b[0m",
      "\u001b[0;31mAttributeError\u001b[0m: 'DistanceMatrix' object has no attribute 'type'"
     ]
    }
   ],
   "source": [
    "#dm.type()"
   ]
  },
  {
   "attachments": {},
   "cell_type": "markdown",
   "metadata": {},
   "source": [
    "BioPhyloTree"
   ]
  },
  {
   "cell_type": "code",
   "execution_count": 12,
   "metadata": {},
   "outputs": [
    {
     "data": {
      "text/plain": [
       "<function skbio.stats.distance._base.DissimilarityMatrix.__init__(self, data, ids=None, validate=True)>"
      ]
     },
     "execution_count": 12,
     "metadata": {},
     "output_type": "execute_result"
    }
   ],
   "source": [
    "from Bio.Phylo.TreeConstruction import DistanceTreeConstructor\n",
    "\n",
    "dm_ = DistanceMatrix.__init__\n",
    "dm_\n",
    "\n",
    "# constructor = DistanceTreeConstructor()\n",
    "# upgmatree = constructor.upgma(dm)\n",
    "# print(upgmatree)\n",
    "\n",
    "# njtree = constructor.nj(dm)\n",
    "# print(njtree)"
   ]
  }
 ],
 "metadata": {
  "kernelspec": {
   "display_name": "Python (env5)",
   "language": "python",
   "name": "env5"
  },
  "orig_nbformat": 4,
  "vscode": {
   "interpreter": {
    "hash": "4effbd762d6eb796ccf5bf9e233d3c9151be40d486c574f3d7f50d75226bfe66"
   }
  }
 },
 "nbformat": 4,
 "nbformat_minor": 2
}
