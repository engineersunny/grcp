{
 "cells": [
  {
   "cell_type": "code",
   "execution_count": 1,
   "metadata": {},
   "outputs": [],
   "source": [
    "import pandas as pd\n",
    "import numpy as np\n",
    "import gensim\n",
    "from gensim.models.doc2vec import Doc2Vec, TaggedDocument\n",
    "from nltk.tokenize import word_tokenize\n",
    "from gensim.models.doc2vec import Doc2Vec"
   ]
  },
  {
   "attachments": {},
   "cell_type": "markdown",
   "metadata": {},
   "source": [
    "Split COLUMN_NAME"
   ]
  },
  {
   "cell_type": "code",
   "execution_count": 2,
   "metadata": {},
   "outputs": [
    {
     "data": {
      "text/plain": [
       "'The Long AND Winding Road'"
      ]
     },
     "execution_count": 2,
     "metadata": {},
     "output_type": "execute_result"
    }
   ],
   "source": [
    "# Split by UpperCase\n",
    "def splitAtUpperCase(s):\n",
    "    for i in range(len(s)-1)[::-1]:\n",
    "        if s[i].isupper() and s[i+1].islower():\n",
    "            s = s[:i]+' '+s[i:]\n",
    "        if s[i].isupper() and s[i-1].islower():\n",
    "            s = s[:i]+' '+s[i:]\n",
    "            \n",
    "    return s[1:]  #s.split()\n",
    "\n",
    "# e.g.\n",
    "splitAtUpperCase('TheLongANDWindingRoad')"
   ]
  },
  {
   "cell_type": "code",
   "execution_count": 12,
   "metadata": {},
   "outputs": [],
   "source": [
    "def process_data(df):\n",
    "\n",
    "    df = df[['COLUMN_NAME', 'TABLE_NAME', 'ORDINAL_POSITION']]\n",
    "\n",
    "    for index, row in df.iterrows():\n",
    "        df.loc[index,'COLUMN_NAME'] = splitAtUpperCase(row['COLUMN_NAME'])\n",
    "        \n",
    "    df = df.applymap(str)\n",
    "\n",
    "    # Grouping one form -> one row of dataframe\n",
    "    gdf = df.groupby('TABLE_NAME')\n",
    "    return gdf"
   ]
  },
  {
   "attachments": {},
   "cell_type": "markdown",
   "metadata": {},
   "source": [
    "Read Train Data"
   ]
  },
  {
   "cell_type": "code",
   "execution_count": 13,
   "metadata": {},
   "outputs": [
    {
     "name": "stderr",
     "output_type": "stream",
     "text": [
      "/home/sunny/miniconda3/envs/env5/lib/python3.7/site-packages/pandas/core/indexing.py:1817: SettingWithCopyWarning: \n",
      "A value is trying to be set on a copy of a slice from a DataFrame.\n",
      "Try using .loc[row_indexer,col_indexer] = value instead\n",
      "\n",
      "See the caveats in the documentation: https://pandas.pydata.org/pandas-docs/stable/user_guide/indexing.html#returning-a-view-versus-a-copy\n",
      "  self._setitem_single_column(loc, value, pi)\n"
     ]
    },
    {
     "data": {
      "text/html": [
       "<div>\n",
       "<style scoped>\n",
       "    .dataframe tbody tr th:only-of-type {\n",
       "        vertical-align: middle;\n",
       "    }\n",
       "\n",
       "    .dataframe tbody tr th {\n",
       "        vertical-align: top;\n",
       "    }\n",
       "\n",
       "    .dataframe thead th {\n",
       "        text-align: right;\n",
       "    }\n",
       "</style>\n",
       "<table border=\"1\" class=\"dataframe\">\n",
       "  <thead>\n",
       "    <tr style=\"text-align: right;\">\n",
       "      <th></th>\n",
       "      <th>COLUMN_NAME</th>\n",
       "      <th>TABLE_NAME</th>\n",
       "      <th>ORDINAL_POSITION</th>\n",
       "    </tr>\n",
       "  </thead>\n",
       "  <tbody>\n",
       "    <tr>\n",
       "      <th>0</th>\n",
       "      <td>Data Protection Key Id</td>\n",
       "      <td>__CDDataProtectionKeys</td>\n",
       "      <td>1</td>\n",
       "    </tr>\n",
       "    <tr>\n",
       "      <th>1</th>\n",
       "      <td>Friendly Name</td>\n",
       "      <td>__CDDataProtectionKeys</td>\n",
       "      <td>2</td>\n",
       "    </tr>\n",
       "    <tr>\n",
       "      <th>2</th>\n",
       "      <td>Xml</td>\n",
       "      <td>__CDDataProtectionKeys</td>\n",
       "      <td>3</td>\n",
       "    </tr>\n",
       "    <tr>\n",
       "      <th>3</th>\n",
       "      <td>System Name</td>\n",
       "      <td>__CDDataProtectionKeys</td>\n",
       "      <td>4</td>\n",
       "    </tr>\n",
       "    <tr>\n",
       "      <th>4</th>\n",
       "      <td>Migration Id</td>\n",
       "      <td>__MigrationHistory</td>\n",
       "      <td>1</td>\n",
       "    </tr>\n",
       "    <tr>\n",
       "      <th>...</th>\n",
       "      <td>...</td>\n",
       "      <td>...</td>\n",
       "      <td>...</td>\n",
       "    </tr>\n",
       "    <tr>\n",
       "      <th>2567</th>\n",
       "      <td>User Profile Event Id</td>\n",
       "      <td>UserProfileEvent</td>\n",
       "      <td>1</td>\n",
       "    </tr>\n",
       "    <tr>\n",
       "      <th>2568</th>\n",
       "      <td>Event Type</td>\n",
       "      <td>UserProfileEvent</td>\n",
       "      <td>2</td>\n",
       "    </tr>\n",
       "    <tr>\n",
       "      <th>2569</th>\n",
       "      <td>Event Date Time</td>\n",
       "      <td>UserProfileEvent</td>\n",
       "      <td>3</td>\n",
       "    </tr>\n",
       "    <tr>\n",
       "      <th>2570</th>\n",
       "      <td>Event Payload</td>\n",
       "      <td>UserProfileEvent</td>\n",
       "      <td>4</td>\n",
       "    </tr>\n",
       "    <tr>\n",
       "      <th>2571</th>\n",
       "      <td>Event User Profile Id</td>\n",
       "      <td>UserProfileEvent</td>\n",
       "      <td>5</td>\n",
       "    </tr>\n",
       "  </tbody>\n",
       "</table>\n",
       "<p>1591 rows × 3 columns</p>\n",
       "</div>"
      ],
      "text/plain": [
       "                 COLUMN_NAME              TABLE_NAME ORDINAL_POSITION\n",
       "0     Data Protection Key Id  __CDDataProtectionKeys                1\n",
       "1              Friendly Name  __CDDataProtectionKeys                2\n",
       "2                        Xml  __CDDataProtectionKeys                3\n",
       "3                System Name  __CDDataProtectionKeys                4\n",
       "4               Migration Id      __MigrationHistory                1\n",
       "...                      ...                     ...              ...\n",
       "2567   User Profile Event Id        UserProfileEvent                1\n",
       "2568              Event Type        UserProfileEvent                2\n",
       "2569         Event Date Time        UserProfileEvent                3\n",
       "2570           Event Payload        UserProfileEvent                4\n",
       "2571   Event User Profile Id        UserProfileEvent                5\n",
       "\n",
       "[1591 rows x 3 columns]"
      ]
     },
     "execution_count": 13,
     "metadata": {},
     "output_type": "execute_result"
    }
   ],
   "source": [
    "df = pd.read_csv('data/Form relationships.csv')\n",
    "gdf = process_data(df)\n",
    "gdf.head()"
   ]
  },
  {
   "attachments": {},
   "cell_type": "markdown",
   "metadata": {},
   "source": [
    "Read Test Data"
   ]
  },
  {
   "cell_type": "code",
   "execution_count": 11,
   "metadata": {},
   "outputs": [
    {
     "name": "stderr",
     "output_type": "stream",
     "text": [
      "/home/sunny/miniconda3/envs/env5/lib/python3.7/site-packages/pandas/core/indexing.py:1817: SettingWithCopyWarning: \n",
      "A value is trying to be set on a copy of a slice from a DataFrame.\n",
      "Try using .loc[row_indexer,col_indexer] = value instead\n",
      "\n",
      "See the caveats in the documentation: https://pandas.pydata.org/pandas-docs/stable/user_guide/indexing.html#returning-a-view-versus-a-copy\n",
      "  self._setitem_single_column(loc, value, pi)\n"
     ]
    },
    {
     "data": {
      "text/html": [
       "<div>\n",
       "<style scoped>\n",
       "    .dataframe tbody tr th:only-of-type {\n",
       "        vertical-align: middle;\n",
       "    }\n",
       "\n",
       "    .dataframe tbody tr th {\n",
       "        vertical-align: top;\n",
       "    }\n",
       "\n",
       "    .dataframe thead th {\n",
       "        text-align: right;\n",
       "    }\n",
       "</style>\n",
       "<table border=\"1\" class=\"dataframe\">\n",
       "  <thead>\n",
       "    <tr style=\"text-align: right;\">\n",
       "      <th></th>\n",
       "      <th>COLUMN_NAME</th>\n",
       "      <th>TABLE_NAME</th>\n",
       "      <th>ORDINAL_POSITION</th>\n",
       "    </tr>\n",
       "  </thead>\n",
       "  <tbody>\n",
       "    <tr>\n",
       "      <th>0</th>\n",
       "      <td>Ontology Audit Id</td>\n",
       "      <td>A</td>\n",
       "      <td>1</td>\n",
       "    </tr>\n",
       "    <tr>\n",
       "      <th>1</th>\n",
       "      <td>Ontology Event Id</td>\n",
       "      <td>A</td>\n",
       "      <td>2</td>\n",
       "    </tr>\n",
       "    <tr>\n",
       "      <th>2</th>\n",
       "      <td>Action</td>\n",
       "      <td>A</td>\n",
       "      <td>3</td>\n",
       "    </tr>\n",
       "    <tr>\n",
       "      <th>3</th>\n",
       "      <td>Action Date</td>\n",
       "      <td>A</td>\n",
       "      <td>4</td>\n",
       "    </tr>\n",
       "    <tr>\n",
       "      <th>4</th>\n",
       "      <td>Action User Profile Id</td>\n",
       "      <td>A</td>\n",
       "      <td>5</td>\n",
       "    </tr>\n",
       "    <tr>\n",
       "      <th>5</th>\n",
       "      <td>Field</td>\n",
       "      <td>A</td>\n",
       "      <td>6</td>\n",
       "    </tr>\n",
       "    <tr>\n",
       "      <th>6</th>\n",
       "      <td>Field Name</td>\n",
       "      <td>A</td>\n",
       "      <td>7</td>\n",
       "    </tr>\n",
       "    <tr>\n",
       "      <th>7</th>\n",
       "      <td>Previous Value</td>\n",
       "      <td>A</td>\n",
       "      <td>8</td>\n",
       "    </tr>\n",
       "    <tr>\n",
       "      <th>8</th>\n",
       "      <td>New Value</td>\n",
       "      <td>A</td>\n",
       "      <td>9</td>\n",
       "    </tr>\n",
       "    <tr>\n",
       "      <th>9</th>\n",
       "      <td>Ontology Id</td>\n",
       "      <td>A</td>\n",
       "      <td>10</td>\n",
       "    </tr>\n",
       "  </tbody>\n",
       "</table>\n",
       "</div>"
      ],
      "text/plain": [
       "              COLUMN_NAME TABLE_NAME ORDINAL_POSITION\n",
       "0       Ontology Audit Id          A                1\n",
       "1       Ontology Event Id          A                2\n",
       "2                  Action          A                3\n",
       "3             Action Date          A                4\n",
       "4  Action User Profile Id          A                5\n",
       "5                   Field          A                6\n",
       "6              Field Name          A                7\n",
       "7          Previous Value          A                8\n",
       "8               New Value          A                9\n",
       "9             Ontology Id          A               10"
      ]
     },
     "execution_count": 11,
     "metadata": {},
     "output_type": "execute_result"
    }
   ],
   "source": [
    "ddf = pd.read_csv('data/Form relationships_dummy tables.csv')\n",
    "gdf_test = process_data(ddf)\n",
    "gdf_test.get_group('A')"
   ]
  },
  {
   "attachments": {},
   "cell_type": "markdown",
   "metadata": {},
   "source": [
    "Dataframe to Sentence"
   ]
  },
  {
   "cell_type": "code",
   "execution_count": 33,
   "metadata": {},
   "outputs": [],
   "source": [
    "# Dataframe to one paragraph\n",
    "\n",
    "def stringify(df, option_tb = 0, option_p = 0):\n",
    "    \n",
    "    if option_tb == 0 or option_tb == 1: \n",
    "        df = df.drop(columns=['TABLE_NAME'])\n",
    "\n",
    "    if option_p == 0: \n",
    "        df = df.drop(columns=['ORDINAL_POSITION'])\n",
    "            \n",
    "    lst = df.values.tolist()\n",
    "\n",
    "    sentence = ''\n",
    "    for row in lst:\n",
    "        for el in row:\n",
    "            if el != 'nan':\n",
    "                sentence = sentence + el + ' ' #''.join(dictionary etc)\n",
    "    return sentence\n",
    "\n",
    "# iterate form -> sentence -> concatenat into a list [,,]\n",
    "def df_to_sentence(gdf, option_tb = 0, option_p = 0):\n",
    "    res = []\n",
    "    \n",
    "    for table_name, df in gdf:\n",
    "        sentence = stringify(df,option_tb, option_p)\n",
    "        if option_tb == 1:\n",
    "            sentence = sentence + table_name\n",
    "        res.append({table_name: sentence})\n",
    "    return res\n",
    "\n",
    "# Tokenizing / Tagging Data\n",
    "# Don't need to stringify -> tokenize it again because we have tokenized dataset already\n",
    "def tagging_data(data):\n",
    "    res = []\n",
    "    \n",
    "    for i, _d in enumerate(data):\n",
    "        for x in _d:\n",
    "            res.append(TaggedDocument(words=word_tokenize(_d[x]), tags=[x]))\n",
    "    return res\n"
   ]
  },
  {
   "attachments": {},
   "cell_type": "markdown",
   "metadata": {},
   "source": [
    "Processing Train Dataset"
   ]
  },
  {
   "cell_type": "code",
   "execution_count": 78,
   "metadata": {},
   "outputs": [
    {
     "data": {
      "text/plain": [
       "{'AgentAction': 'Agent Action Id Micro Service Agent Id Name Description ML Data Type Id Micro Service Implementation AgentAction'}"
      ]
     },
     "execution_count": 78,
     "metadata": {},
     "output_type": "execute_result"
    }
   ],
   "source": [
    "# option_tb 2 : keep table name multiple times\n",
    "# option_tb 1 : keep table name once\n",
    "# option_tb 0 : drop table name\n",
    "\n",
    "# option_p 1 : keep ordinal position\n",
    "# option_p 0 : drop ordinal position\n",
    "\n",
    "train_data = df_to_sentence(gdf,option_tb=1,option_p=0)\n",
    "train_data[0]"
   ]
  },
  {
   "cell_type": "code",
   "execution_count": 79,
   "metadata": {},
   "outputs": [
    {
     "data": {
      "text/plain": [
       "TaggedDocument(words=['Agent', 'Action', 'Id', 'Micro', 'Service', 'Agent', 'Id', 'Name', 'Description', 'ML', 'Data', 'Type', 'Id', 'Micro', 'Service', 'Implementation', 'AgentAction'], tags=['AgentAction'])"
      ]
     },
     "execution_count": 79,
     "metadata": {},
     "output_type": "execute_result"
    }
   ],
   "source": [
    "tagged_data_train = tagging_data(train_data)\n",
    "tagged_data_train[0]\n"
   ]
  },
  {
   "attachments": {},
   "cell_type": "markdown",
   "metadata": {},
   "source": [
    "Processing Test Dataset"
   ]
  },
  {
   "cell_type": "code",
   "execution_count": 80,
   "metadata": {},
   "outputs": [
    {
     "data": {
      "text/plain": [
       "{'A': 'Ontology Audit Id Ontology Event Id Action Action Date Action User Profile Id Field Field Name Previous Value New Value Ontology Id A'}"
      ]
     },
     "execution_count": 80,
     "metadata": {},
     "output_type": "execute_result"
    }
   ],
   "source": [
    "# iterate form -> sentence -> concatenat into a list [,,]\n",
    "test_data = df_to_sentence(gdf_test,1,0)\n",
    "test_data[0]"
   ]
  },
  {
   "cell_type": "code",
   "execution_count": 81,
   "metadata": {},
   "outputs": [
    {
     "data": {
      "text/plain": [
       "TaggedDocument(words=['Ontology', 'Audit', 'Id', 'Ontology', 'Event', 'Id', 'Action', 'Action', 'Date', 'Action', 'User', 'Profile', 'Id', 'Field', 'Field', 'Name', 'Previous', 'Value', 'New', 'Value', 'Ontology', 'Id', 'A'], tags=['A'])"
      ]
     },
     "execution_count": 81,
     "metadata": {},
     "output_type": "execute_result"
    }
   ],
   "source": [
    "tagged_data_test= tagging_data(test_data)\n",
    "tagged_data_test[0]"
   ]
  },
  {
   "attachments": {},
   "cell_type": "markdown",
   "metadata": {},
   "source": [
    "Combine Train + Test Data"
   ]
  },
  {
   "cell_type": "code",
   "execution_count": 84,
   "metadata": {},
   "outputs": [],
   "source": [
    "comb_data = train_data+test_data\n",
    "tagged_data_comb = tagging_data(comb_data)"
   ]
  },
  {
   "attachments": {},
   "cell_type": "markdown",
   "metadata": {},
   "source": [
    "Train w/ Train data"
   ]
  },
  {
   "cell_type": "code",
   "execution_count": 93,
   "metadata": {},
   "outputs": [],
   "source": [
    "def train(tagged_data):\n",
    "    model = gensim.models.doc2vec.Doc2Vec(vector_size=50, min_count=2, epochs=500)\n",
    "    model.build_vocab(tagged_data)\n",
    "    model.train(tagged_data, total_examples=model.corpus_count, epochs=500)\n",
    "    model.save(\"data/d2v.model\")\n",
    "    return model\n",
    "\n",
    "#model = train(tagged_data_train) \n",
    "model = train(tagged_data_comb) \n"
   ]
  },
  {
   "attachments": {},
   "cell_type": "markdown",
   "metadata": {},
   "source": [
    "Result"
   ]
  },
  {
   "cell_type": "code",
   "execution_count": 86,
   "metadata": {},
   "outputs": [
    {
     "data": {
      "text/plain": [
       "[('A', 0.9907042980194092),\n",
       " ('A4', 0.9862944483757019),\n",
       " ('A2', 0.9831196665763855),\n",
       " ('A1', 0.9797560572624207),\n",
       " ('A3', 0.9779426455497742),\n",
       " ('A+B', 0.8618450164794922),\n",
       " ('OntologyAttachment', 0.7445945143699646),\n",
       " ('OntologyEntityAudit', 0.7303792834281921),\n",
       " ('B', 0.7225223183631897),\n",
       " ('B1', 0.7136251330375671)]"
      ]
     },
     "execution_count": 86,
     "metadata": {},
     "output_type": "execute_result"
    }
   ],
   "source": [
    "# Pulling similar form ranking of form 'OntologyAudit'\n",
    "similar_doc = model.docvecs.most_similar('OntologyAudit')\n",
    "similar_doc"
   ]
  },
  {
   "cell_type": "code",
   "execution_count": null,
   "metadata": {},
   "outputs": [
    {
     "ename": "",
     "evalue": "",
     "output_type": "error",
     "traceback": [
      "\u001b[1;31mRunning cells with 'envKedro' requires ipykernel package.\n",
      "\u001b[1;31mRun the following command to install 'ipykernel' into the Python environment. \n",
      "\u001b[1;31mCommand: 'conda install -n envKedro ipykernel --update-deps --force-reinstall'"
     ]
    }
   ],
   "source": [
    "# Pulling similar form ranking of form 'UserProfile'\n",
    "similar_doc = model.docvecs.most_similar('UserProfile')\n",
    "similar_doc"
   ]
  },
  {
   "attachments": {},
   "cell_type": "markdown",
   "metadata": {},
   "source": [
    "Load saved model"
   ]
  },
  {
   "cell_type": "code",
   "execution_count": 40,
   "metadata": {},
   "outputs": [],
   "source": [
    "loaded_model = Doc2Vec.load(\"data/d2v.model\")"
   ]
  },
  {
   "attachments": {},
   "cell_type": "markdown",
   "metadata": {},
   "source": [
    "Pairwise matrix for train data"
   ]
  },
  {
   "cell_type": "code",
   "execution_count": 41,
   "metadata": {},
   "outputs": [
    {
     "data": {
      "text/plain": [
       "0                         AgentAction\n",
       "1                    AgentActionAudit\n",
       "2                    AgentActionEvent\n",
       "3           AgentActionImplementation\n",
       "4      AgentActionImplementationAudit\n",
       "                    ...              \n",
       "339                       UserProfile\n",
       "340                  UserProfileAudit\n",
       "341                  UserProfileEvent\n",
       "342            __CDDataProtectionKeys\n",
       "343                __MigrationHistory\n",
       "Name: 0, Length: 344, dtype: object"
      ]
     },
     "execution_count": 41,
     "metadata": {},
     "output_type": "execute_result"
    }
   ],
   "source": [
    "#gdf = odf.groupby('TABLE_NAME')\n",
    "tables = pd.DataFrame(gdf).loc[:,0]\n",
    "tables"
   ]
  },
  {
   "cell_type": "code",
   "execution_count": 42,
   "metadata": {},
   "outputs": [
    {
     "name": "stdout",
     "output_type": "stream",
     "text": [
      "0.83749205\n",
      "0.16250795125961304\n"
     ]
    }
   ],
   "source": [
    "print (loaded_model.docvecs.similarity('UserProfile', 'UserPreference'))\n",
    "print (loaded_model.docvecs.distance('UserProfile', 'UserPreference'))"
   ]
  },
  {
   "attachments": {},
   "cell_type": "markdown",
   "metadata": {},
   "source": [
    "Pairwise matrix for test data"
   ]
  },
  {
   "cell_type": "code",
   "execution_count": 43,
   "metadata": {},
   "outputs": [
    {
     "data": {
      "text/plain": [
       "0      A\n",
       "1    A+B\n",
       "2     A1\n",
       "3     A2\n",
       "4     A3\n",
       "5     A4\n",
       "6      B\n",
       "7     B1\n",
       "8      C\n",
       "9      D\n",
       "Name: 0, dtype: object"
      ]
     },
     "execution_count": 43,
     "metadata": {},
     "output_type": "execute_result"
    }
   ],
   "source": [
    "test_tables = pd.DataFrame(gdf_test).loc[:,0]\n",
    "test_tables"
   ]
  },
  {
   "cell_type": "code",
   "execution_count": 44,
   "metadata": {},
   "outputs": [
    {
     "data": {
      "text/plain": [
       "0"
      ]
     },
     "execution_count": 44,
     "metadata": {},
     "output_type": "execute_result"
    }
   ],
   "source": [
    "dummy_table = {}\n",
    "\n",
    "for i, val in enumerate(test_tables):\n",
    "    dummy_table[val] = i\n",
    "\n",
    "dummy_table['A']"
   ]
  },
  {
   "attachments": {},
   "cell_type": "markdown",
   "metadata": {},
   "source": [
    "Calculate dist A-A1 method 1"
   ]
  },
  {
   "cell_type": "code",
   "execution_count": 52,
   "metadata": {},
   "outputs": [
    {
     "data": {
      "text/plain": [
       "-0.0031496563"
      ]
     },
     "execution_count": 52,
     "metadata": {},
     "output_type": "execute_result"
    }
   ],
   "source": [
    "model.docvecs.similarity_unseen_docs(model, [test_data[dummy_table['A2']]['A2']], [test_data[dummy_table['A4']]['A4']])"
   ]
  },
  {
   "attachments": {},
   "cell_type": "markdown",
   "metadata": {},
   "source": [
    "Calculate dist A-A1 method 2 - result is the same"
   ]
  },
  {
   "cell_type": "code",
   "execution_count": 53,
   "metadata": {},
   "outputs": [
    {
     "data": {
      "text/plain": [
       "-0.0031496563"
      ]
     },
     "execution_count": 53,
     "metadata": {},
     "output_type": "execute_result"
    }
   ],
   "source": [
    "from numpy import zeros, random, sum as np_sum, add as np_add, concatenate, \\\n",
    "    repeat as np_repeat, array, float32 as REAL, empty, ones, memmap as np_memmap, \\\n",
    "    sqrt, newaxis, ndarray, dot, vstack, dtype, divide as np_divide\n",
    "\n",
    "from gensim import utils, matutils \n",
    "\n",
    "alpha=0.1\n",
    "min_alpha=0.0001\n",
    "steps=5\n",
    "\n",
    "d1 = model.infer_vector(doc_words=[test_data[dummy_table['A2']]['A2']], alpha=alpha, min_alpha=min_alpha, steps=steps)\n",
    "d2 = model.infer_vector(doc_words=[test_data[dummy_table['A4']]['A4']] , alpha=alpha, min_alpha=min_alpha, steps=steps)\n",
    "\n",
    "similarity_score = dot(matutils.unitvec(d1), matutils.unitvec(d2))\n",
    "\n",
    "similarity_score"
   ]
  },
  {
   "cell_type": "code",
   "execution_count": null,
   "metadata": {},
   "outputs": [
    {
     "ename": "",
     "evalue": "",
     "output_type": "error",
     "traceback": [
      "\u001b[1;31mRunning cells with 'envKedro' requires ipykernel package.\n",
      "\u001b[1;31mRun the following command to install 'ipykernel' into the Python environment. \n",
      "\u001b[1;31mCommand: 'conda install -n envKedro ipykernel --update-deps --force-reinstall'"
     ]
    }
   ],
   "source": [
    "    #discussion on unseen_docs\n",
    "           \n",
    "    # Gensim code https://tedboy.github.io/nlps/_modules/gensim/models/doc2vec.html\n",
    "    # discussion https://stackoverflow.com/questions/55924378/doc2vec-finding-document-similarity-in-test-data\n",
    "    \n",
    "    # def similarity(self, d1, d2):\n",
    "    #     \"\"\"\n",
    "    #     Compute cosine similarity between two docvecs in the trained set, specified by int index or\n",
    "    #     string tag. (TODO: Accept vectors of out-of-training-set docs, as if from inference.)\n",
    "    #     \"\"\"\n",
    "    #     return dot(matutils.unitvec(self[d1]), matutils.unitvec(self[d2]))\n",
    "    \n",
    "    # def similarity_unseen_docs(self, model, doc_words1, doc_words2, alpha=0.1, min_alpha=0.0001, steps=5):\n",
    "        # \"\"\"\n",
    "        # Compute cosine similarity between two post-bulk out of training documents.\n",
    "\n",
    "        # Document should be a list of (word) tokens.\n",
    "        # \"\"\"\n",
    "        # d1 = model.infer_vector(doc_words=doc_words1, alpha=alpha, min_alpha=min_alpha, steps=steps)\n",
    "        # d2 = model.infer_vector(doc_words=doc_words2, alpha=alpha, min_alpha=min_alpha, steps=steps)\n",
    "        # return dot(matutils.unitvec(d1), matutils.unitvec(d2))"
   ]
  },
  {
   "attachments": {},
   "cell_type": "markdown",
   "metadata": {},
   "source": [
    "Matrix for Train data"
   ]
  },
  {
   "cell_type": "code",
   "execution_count": 54,
   "metadata": {},
   "outputs": [],
   "source": [
    "# table x table score matrix\n",
    "lst = []\n",
    "\n",
    "for x in tables:\n",
    "    score_x = []\n",
    "    for y in tables:\n",
    "        if x == y:\n",
    "            score_x.append(0) # res dist is not exactly 0. Set to 0 here.\n",
    "        else:\n",
    "            score_x.append(loaded_model.docvecs.distance(x,y)) \n",
    "            \n",
    "    lst.append(score_x)\n",
    "    "
   ]
  },
  {
   "cell_type": "code",
   "execution_count": 55,
   "metadata": {},
   "outputs": [
    {
     "data": {
      "text/html": [
       "<div>\n",
       "<style scoped>\n",
       "    .dataframe tbody tr th:only-of-type {\n",
       "        vertical-align: middle;\n",
       "    }\n",
       "\n",
       "    .dataframe tbody tr th {\n",
       "        vertical-align: top;\n",
       "    }\n",
       "\n",
       "    .dataframe thead th {\n",
       "        text-align: right;\n",
       "    }\n",
       "</style>\n",
       "<table border=\"1\" class=\"dataframe\">\n",
       "  <thead>\n",
       "    <tr style=\"text-align: right;\">\n",
       "      <th></th>\n",
       "      <th>AgentAction</th>\n",
       "      <th>AgentActionAudit</th>\n",
       "      <th>AgentActionEvent</th>\n",
       "      <th>AgentActionImplementation</th>\n",
       "      <th>AgentActionImplementationAudit</th>\n",
       "      <th>AgentActionImplementationEvent</th>\n",
       "      <th>AgentObservable</th>\n",
       "      <th>AgentObservableAudit</th>\n",
       "      <th>AgentObservableEvent</th>\n",
       "      <th>AgentVersion</th>\n",
       "      <th>...</th>\n",
       "      <th>TreeVariableDeclaration</th>\n",
       "      <th>TreeVariableDeclarationAudit</th>\n",
       "      <th>TreeVariableDeclarationEvent</th>\n",
       "      <th>TreeVariableEvent</th>\n",
       "      <th>UserPreference</th>\n",
       "      <th>UserProfile</th>\n",
       "      <th>UserProfileAudit</th>\n",
       "      <th>UserProfileEvent</th>\n",
       "      <th>__CDDataProtectionKeys</th>\n",
       "      <th>__MigrationHistory</th>\n",
       "    </tr>\n",
       "  </thead>\n",
       "  <tbody>\n",
       "    <tr>\n",
       "      <th>AgentAction</th>\n",
       "      <td>0.000000</td>\n",
       "      <td>0.519217</td>\n",
       "      <td>0.757169</td>\n",
       "      <td>0.253857</td>\n",
       "      <td>0.389246</td>\n",
       "      <td>0.569316</td>\n",
       "      <td>0.266613</td>\n",
       "      <td>0.383427</td>\n",
       "      <td>0.499094</td>\n",
       "      <td>0.443747</td>\n",
       "      <td>...</td>\n",
       "      <td>0.733058</td>\n",
       "      <td>0.725617</td>\n",
       "      <td>0.854158</td>\n",
       "      <td>0.977543</td>\n",
       "      <td>0.706001</td>\n",
       "      <td>0.886102</td>\n",
       "      <td>1.016597</td>\n",
       "      <td>1.146404</td>\n",
       "      <td>0.448697</td>\n",
       "      <td>0.406012</td>\n",
       "    </tr>\n",
       "    <tr>\n",
       "      <th>AgentActionAudit</th>\n",
       "      <td>0.519217</td>\n",
       "      <td>0.000000</td>\n",
       "      <td>0.192006</td>\n",
       "      <td>0.205027</td>\n",
       "      <td>0.117400</td>\n",
       "      <td>0.204123</td>\n",
       "      <td>0.371758</td>\n",
       "      <td>0.105497</td>\n",
       "      <td>0.253541</td>\n",
       "      <td>0.388877</td>\n",
       "      <td>...</td>\n",
       "      <td>0.956809</td>\n",
       "      <td>0.652752</td>\n",
       "      <td>0.833195</td>\n",
       "      <td>0.914196</td>\n",
       "      <td>0.745245</td>\n",
       "      <td>0.966017</td>\n",
       "      <td>0.620342</td>\n",
       "      <td>0.797183</td>\n",
       "      <td>0.797306</td>\n",
       "      <td>0.541934</td>\n",
       "    </tr>\n",
       "    <tr>\n",
       "      <th>AgentActionEvent</th>\n",
       "      <td>0.757169</td>\n",
       "      <td>0.192006</td>\n",
       "      <td>0.000000</td>\n",
       "      <td>0.462492</td>\n",
       "      <td>0.375644</td>\n",
       "      <td>0.126873</td>\n",
       "      <td>0.649904</td>\n",
       "      <td>0.371671</td>\n",
       "      <td>0.168967</td>\n",
       "      <td>0.598176</td>\n",
       "      <td>...</td>\n",
       "      <td>1.171511</td>\n",
       "      <td>0.920973</td>\n",
       "      <td>0.678420</td>\n",
       "      <td>0.715443</td>\n",
       "      <td>0.955958</td>\n",
       "      <td>1.192743</td>\n",
       "      <td>0.720954</td>\n",
       "      <td>0.511798</td>\n",
       "      <td>1.108008</td>\n",
       "      <td>0.783279</td>\n",
       "    </tr>\n",
       "    <tr>\n",
       "      <th>AgentActionImplementation</th>\n",
       "      <td>0.253857</td>\n",
       "      <td>0.205027</td>\n",
       "      <td>0.462492</td>\n",
       "      <td>0.000000</td>\n",
       "      <td>0.132976</td>\n",
       "      <td>0.305611</td>\n",
       "      <td>0.177660</td>\n",
       "      <td>0.189047</td>\n",
       "      <td>0.331681</td>\n",
       "      <td>0.276178</td>\n",
       "      <td>...</td>\n",
       "      <td>0.776394</td>\n",
       "      <td>0.732144</td>\n",
       "      <td>0.884635</td>\n",
       "      <td>1.030616</td>\n",
       "      <td>0.509477</td>\n",
       "      <td>0.733494</td>\n",
       "      <td>0.785005</td>\n",
       "      <td>0.939070</td>\n",
       "      <td>0.504218</td>\n",
       "      <td>0.338081</td>\n",
       "    </tr>\n",
       "    <tr>\n",
       "      <th>AgentActionImplementationAudit</th>\n",
       "      <td>0.389246</td>\n",
       "      <td>0.117400</td>\n",
       "      <td>0.375644</td>\n",
       "      <td>0.132976</td>\n",
       "      <td>0.000000</td>\n",
       "      <td>0.169465</td>\n",
       "      <td>0.249242</td>\n",
       "      <td>0.096488</td>\n",
       "      <td>0.302046</td>\n",
       "      <td>0.352695</td>\n",
       "      <td>...</td>\n",
       "      <td>0.744250</td>\n",
       "      <td>0.566929</td>\n",
       "      <td>0.796510</td>\n",
       "      <td>0.934540</td>\n",
       "      <td>0.600760</td>\n",
       "      <td>0.818109</td>\n",
       "      <td>0.635289</td>\n",
       "      <td>0.855649</td>\n",
       "      <td>0.748829</td>\n",
       "      <td>0.527671</td>\n",
       "    </tr>\n",
       "  </tbody>\n",
       "</table>\n",
       "<p>5 rows × 344 columns</p>\n",
       "</div>"
      ],
      "text/plain": [
       "0                               AgentAction  AgentActionAudit  \\\n",
       "AgentAction                        0.000000          0.519217   \n",
       "AgentActionAudit                   0.519217          0.000000   \n",
       "AgentActionEvent                   0.757169          0.192006   \n",
       "AgentActionImplementation          0.253857          0.205027   \n",
       "AgentActionImplementationAudit     0.389246          0.117400   \n",
       "\n",
       "0                               AgentActionEvent  AgentActionImplementation  \\\n",
       "AgentAction                             0.757169                   0.253857   \n",
       "AgentActionAudit                        0.192006                   0.205027   \n",
       "AgentActionEvent                        0.000000                   0.462492   \n",
       "AgentActionImplementation               0.462492                   0.000000   \n",
       "AgentActionImplementationAudit          0.375644                   0.132976   \n",
       "\n",
       "0                               AgentActionImplementationAudit  \\\n",
       "AgentAction                                           0.389246   \n",
       "AgentActionAudit                                      0.117400   \n",
       "AgentActionEvent                                      0.375644   \n",
       "AgentActionImplementation                             0.132976   \n",
       "AgentActionImplementationAudit                        0.000000   \n",
       "\n",
       "0                               AgentActionImplementationEvent  \\\n",
       "AgentAction                                           0.569316   \n",
       "AgentActionAudit                                      0.204123   \n",
       "AgentActionEvent                                      0.126873   \n",
       "AgentActionImplementation                             0.305611   \n",
       "AgentActionImplementationAudit                        0.169465   \n",
       "\n",
       "0                               AgentObservable  AgentObservableAudit  \\\n",
       "AgentAction                            0.266613              0.383427   \n",
       "AgentActionAudit                       0.371758              0.105497   \n",
       "AgentActionEvent                       0.649904              0.371671   \n",
       "AgentActionImplementation              0.177660              0.189047   \n",
       "AgentActionImplementationAudit         0.249242              0.096488   \n",
       "\n",
       "0                               AgentObservableEvent  AgentVersion  ...  \\\n",
       "AgentAction                                 0.499094      0.443747  ...   \n",
       "AgentActionAudit                            0.253541      0.388877  ...   \n",
       "AgentActionEvent                            0.168967      0.598176  ...   \n",
       "AgentActionImplementation                   0.331681      0.276178  ...   \n",
       "AgentActionImplementationAudit              0.302046      0.352695  ...   \n",
       "\n",
       "0                               TreeVariableDeclaration  \\\n",
       "AgentAction                                    0.733058   \n",
       "AgentActionAudit                               0.956809   \n",
       "AgentActionEvent                               1.171511   \n",
       "AgentActionImplementation                      0.776394   \n",
       "AgentActionImplementationAudit                 0.744250   \n",
       "\n",
       "0                               TreeVariableDeclarationAudit  \\\n",
       "AgentAction                                         0.725617   \n",
       "AgentActionAudit                                    0.652752   \n",
       "AgentActionEvent                                    0.920973   \n",
       "AgentActionImplementation                           0.732144   \n",
       "AgentActionImplementationAudit                      0.566929   \n",
       "\n",
       "0                               TreeVariableDeclarationEvent  \\\n",
       "AgentAction                                         0.854158   \n",
       "AgentActionAudit                                    0.833195   \n",
       "AgentActionEvent                                    0.678420   \n",
       "AgentActionImplementation                           0.884635   \n",
       "AgentActionImplementationAudit                      0.796510   \n",
       "\n",
       "0                               TreeVariableEvent  UserPreference  \\\n",
       "AgentAction                              0.977543        0.706001   \n",
       "AgentActionAudit                         0.914196        0.745245   \n",
       "AgentActionEvent                         0.715443        0.955958   \n",
       "AgentActionImplementation                1.030616        0.509477   \n",
       "AgentActionImplementationAudit           0.934540        0.600760   \n",
       "\n",
       "0                               UserProfile  UserProfileAudit  \\\n",
       "AgentAction                        0.886102          1.016597   \n",
       "AgentActionAudit                   0.966017          0.620342   \n",
       "AgentActionEvent                   1.192743          0.720954   \n",
       "AgentActionImplementation          0.733494          0.785005   \n",
       "AgentActionImplementationAudit     0.818109          0.635289   \n",
       "\n",
       "0                               UserProfileEvent  __CDDataProtectionKeys  \\\n",
       "AgentAction                             1.146404                0.448697   \n",
       "AgentActionAudit                        0.797183                0.797306   \n",
       "AgentActionEvent                        0.511798                1.108008   \n",
       "AgentActionImplementation               0.939070                0.504218   \n",
       "AgentActionImplementationAudit          0.855649                0.748829   \n",
       "\n",
       "0                               __MigrationHistory  \n",
       "AgentAction                               0.406012  \n",
       "AgentActionAudit                          0.541934  \n",
       "AgentActionEvent                          0.783279  \n",
       "AgentActionImplementation                 0.338081  \n",
       "AgentActionImplementationAudit            0.527671  \n",
       "\n",
       "[5 rows x 344 columns]"
      ]
     },
     "execution_count": 55,
     "metadata": {},
     "output_type": "execute_result"
    }
   ],
   "source": [
    "# list to df\n",
    "matrix = pd.DataFrame.from_records(lst)\n",
    "matrix.set_axis(tables, axis=1, inplace=True)\n",
    "matrix.rename(tables, inplace=True)\n",
    "matrix.head()"
   ]
  },
  {
   "cell_type": "code",
   "execution_count": 90,
   "metadata": {},
   "outputs": [],
   "source": [
    "# df to csv\n",
    "matrix.to_csv('result/result_matrix.csv')"
   ]
  },
  {
   "attachments": {},
   "cell_type": "markdown",
   "metadata": {},
   "source": [
    "Matrix for Test data"
   ]
  },
  {
   "cell_type": "code",
   "execution_count": 59,
   "metadata": {},
   "outputs": [],
   "source": [
    "# table x table score matrix\n",
    "# distance = 1 - similarity score\n",
    "lst_test = []\n",
    "\n",
    "for x in test_tables:\n",
    "    score_x = []\n",
    "    for y in test_tables:\n",
    "        if x == y:\n",
    "            score_x.append(0) # res dist is not exactly 0. Set to 0 here.\n",
    "        else:\n",
    "            dist = 1 - (loaded_model.docvecs.similarity_unseen_docs(loaded_model, [x],[y])) #np.abs\n",
    "            score_x.append(dist) \n",
    "            \n",
    "    lst_test.append(score_x)"
   ]
  },
  {
   "cell_type": "code",
   "execution_count": 60,
   "metadata": {},
   "outputs": [
    {
     "data": {
      "text/html": [
       "<div>\n",
       "<style scoped>\n",
       "    .dataframe tbody tr th:only-of-type {\n",
       "        vertical-align: middle;\n",
       "    }\n",
       "\n",
       "    .dataframe tbody tr th {\n",
       "        vertical-align: top;\n",
       "    }\n",
       "\n",
       "    .dataframe thead th {\n",
       "        text-align: right;\n",
       "    }\n",
       "</style>\n",
       "<table border=\"1\" class=\"dataframe\">\n",
       "  <thead>\n",
       "    <tr style=\"text-align: right;\">\n",
       "      <th></th>\n",
       "      <th>A</th>\n",
       "      <th>A+B</th>\n",
       "      <th>A1</th>\n",
       "      <th>A2</th>\n",
       "      <th>A3</th>\n",
       "      <th>A4</th>\n",
       "      <th>B</th>\n",
       "      <th>B1</th>\n",
       "      <th>C</th>\n",
       "      <th>D</th>\n",
       "    </tr>\n",
       "  </thead>\n",
       "  <tbody>\n",
       "    <tr>\n",
       "      <th>A</th>\n",
       "      <td>0.000000</td>\n",
       "      <td>0.947958</td>\n",
       "      <td>1.163782</td>\n",
       "      <td>1.231541</td>\n",
       "      <td>0.968117</td>\n",
       "      <td>0.904569</td>\n",
       "      <td>0.965783</td>\n",
       "      <td>1.022006</td>\n",
       "      <td>1.171080</td>\n",
       "      <td>0.522372</td>\n",
       "    </tr>\n",
       "    <tr>\n",
       "      <th>A+B</th>\n",
       "      <td>0.947958</td>\n",
       "      <td>0.000000</td>\n",
       "      <td>0.898970</td>\n",
       "      <td>0.824369</td>\n",
       "      <td>0.971226</td>\n",
       "      <td>0.809922</td>\n",
       "      <td>1.125264</td>\n",
       "      <td>0.927892</td>\n",
       "      <td>1.052653</td>\n",
       "      <td>0.852410</td>\n",
       "    </tr>\n",
       "    <tr>\n",
       "      <th>A1</th>\n",
       "      <td>1.163782</td>\n",
       "      <td>0.898970</td>\n",
       "      <td>0.000000</td>\n",
       "      <td>0.828293</td>\n",
       "      <td>0.891251</td>\n",
       "      <td>1.006988</td>\n",
       "      <td>0.907615</td>\n",
       "      <td>0.907327</td>\n",
       "      <td>1.053930</td>\n",
       "      <td>0.974571</td>\n",
       "    </tr>\n",
       "    <tr>\n",
       "      <th>A2</th>\n",
       "      <td>1.231541</td>\n",
       "      <td>0.824369</td>\n",
       "      <td>0.828293</td>\n",
       "      <td>0.000000</td>\n",
       "      <td>1.063617</td>\n",
       "      <td>0.942924</td>\n",
       "      <td>0.902616</td>\n",
       "      <td>0.852147</td>\n",
       "      <td>0.850634</td>\n",
       "      <td>1.151293</td>\n",
       "    </tr>\n",
       "    <tr>\n",
       "      <th>A3</th>\n",
       "      <td>0.968117</td>\n",
       "      <td>0.971226</td>\n",
       "      <td>0.891251</td>\n",
       "      <td>1.063617</td>\n",
       "      <td>0.000000</td>\n",
       "      <td>1.070610</td>\n",
       "      <td>0.989510</td>\n",
       "      <td>0.496658</td>\n",
       "      <td>1.072097</td>\n",
       "      <td>0.983110</td>\n",
       "    </tr>\n",
       "  </tbody>\n",
       "</table>\n",
       "</div>"
      ],
      "text/plain": [
       "0           A       A+B        A1        A2        A3        A4         B  \\\n",
       "A    0.000000  0.947958  1.163782  1.231541  0.968117  0.904569  0.965783   \n",
       "A+B  0.947958  0.000000  0.898970  0.824369  0.971226  0.809922  1.125264   \n",
       "A1   1.163782  0.898970  0.000000  0.828293  0.891251  1.006988  0.907615   \n",
       "A2   1.231541  0.824369  0.828293  0.000000  1.063617  0.942924  0.902616   \n",
       "A3   0.968117  0.971226  0.891251  1.063617  0.000000  1.070610  0.989510   \n",
       "\n",
       "0          B1         C         D  \n",
       "A    1.022006  1.171080  0.522372  \n",
       "A+B  0.927892  1.052653  0.852410  \n",
       "A1   0.907327  1.053930  0.974571  \n",
       "A2   0.852147  0.850634  1.151293  \n",
       "A3   0.496658  1.072097  0.983110  "
      ]
     },
     "execution_count": 60,
     "metadata": {},
     "output_type": "execute_result"
    }
   ],
   "source": [
    "# list to df\n",
    "matrix_test = pd.DataFrame.from_records(lst_test)\n",
    "matrix_test.set_axis(test_tables, axis=1, inplace=True)\n",
    "matrix_test.rename(test_tables, inplace=True)\n",
    "matrix_test.head()"
   ]
  },
  {
   "attachments": {},
   "cell_type": "markdown",
   "metadata": {},
   "source": [
    "Distance Tree for Training Data"
   ]
  },
  {
   "cell_type": "code",
   "execution_count": 61,
   "metadata": {},
   "outputs": [],
   "source": [
    "from skbio import DistanceMatrix\n",
    "from skbio.tree import nj\n",
    "#run: pip install scikit-bio"
   ]
  },
  {
   "cell_type": "code",
   "execution_count": 62,
   "metadata": {},
   "outputs": [],
   "source": [
    "dm = DistanceMatrix(matrix, tables)\n",
    "tree = nj(dm)\n",
    "str_tree = tree.ascii_art()\n",
    "#print(str_tree)"
   ]
  },
  {
   "cell_type": "code",
   "execution_count": 92,
   "metadata": {},
   "outputs": [],
   "source": [
    "text_file = open(\"result/tree_train.txt\", \"w\")\n",
    "text_file.write(str_tree)\n",
    "text_file.close()"
   ]
  },
  {
   "attachments": {},
   "cell_type": "markdown",
   "metadata": {},
   "source": [
    "Distance Tree for Test Data"
   ]
  },
  {
   "cell_type": "code",
   "execution_count": 91,
   "metadata": {},
   "outputs": [],
   "source": [
    "dm = DistanceMatrix(matrix_test, test_tables)\n",
    "tree = nj(dm)\n",
    "str_tree = tree.ascii_art()\n",
    "\n",
    "text_file = open(\"result/tree_test.txt\", \"w\")\n",
    "text_file.write(str_tree)\n",
    "text_file.close()"
   ]
  }
 ],
 "metadata": {
  "kernelspec": {
   "display_name": "env5",
   "language": "python",
   "name": "python3"
  },
  "language_info": {
   "codemirror_mode": {
    "name": "ipython",
    "version": 3
   },
   "file_extension": ".py",
   "mimetype": "text/x-python",
   "name": "python",
   "nbconvert_exporter": "python",
   "pygments_lexer": "ipython3",
   "version": "3.7.11"
  },
  "orig_nbformat": 4,
  "vscode": {
   "interpreter": {
    "hash": "4effbd762d6eb796ccf5bf9e233d3c9151be40d486c574f3d7f50d75226bfe66"
   }
  }
 },
 "nbformat": 4,
 "nbformat_minor": 2
}
